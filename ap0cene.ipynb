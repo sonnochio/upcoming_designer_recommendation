{
 "cells": [
  {
   "cell_type": "code",
   "execution_count": 52,
   "id": "f06e4b3e",
   "metadata": {},
   "outputs": [],
   "source": [
    "import requests\n",
    "from selenium import webdriver as wbdv\n",
    "import time"
   ]
  },
  {
   "cell_type": "code",
   "execution_count": 2,
   "id": "c2e7f2aa",
   "metadata": {},
   "outputs": [],
   "source": [
    "from bs4 import BeautifulSoup as bs"
   ]
  },
  {
   "cell_type": "code",
   "execution_count": 3,
   "id": "b63f1fad",
   "metadata": {},
   "outputs": [],
   "source": [
    "r=requests.get('https://ap0cene.com/collections/yue-qing-wei-1')"
   ]
  },
  {
   "cell_type": "code",
   "execution_count": 4,
   "id": "402d4630",
   "metadata": {},
   "outputs": [],
   "source": [
    "soup=bs(r.content, \"html.parser\")"
   ]
  },
  {
   "cell_type": "code",
   "execution_count": 139,
   "id": "f78233f8",
   "metadata": {},
   "outputs": [],
   "source": [
    "names=[]\n",
    "items=[]\n",
    "for i in soup.find_all(\"img\", class_=\"responsive-image block absolute top-0 left-0 w-full h-full lazyload transition-opacity duration-200 ease-in-out w-full max-w-full h-auto\" ):\n",
    "    names.append(i['alt'])\n",
    "    items.append('-'.join(i['alt'].lower().split()))"
   ]
  },
  {
   "cell_type": "code",
   "execution_count": 6,
   "id": "8c1d7c50",
   "metadata": {
    "scrolled": true
   },
   "outputs": [
    {
     "data": {
      "text/plain": [
       "['cut-out-lace-sleeve',\n",
       " 'chestnut-cut-out-corset-top',\n",
       " 'ocean-wave-cut-out-mini-dress',\n",
       " 'cut-out-lace-tights',\n",
       " 'violet-knit-dress']"
      ]
     },
     "execution_count": 6,
     "metadata": {},
     "output_type": "execute_result"
    }
   ],
   "source": [
    "items"
   ]
  },
  {
   "cell_type": "code",
   "execution_count": 148,
   "id": "dbc8b082",
   "metadata": {},
   "outputs": [
    {
     "data": {
      "text/plain": [
       "['Cut Out Lace Sleeve',\n",
       " 'Chestnut Cut Out Corset Top',\n",
       " 'Ocean Wave Cut Out Mini Dress',\n",
       " 'Cut Out Lace Tights',\n",
       " 'Violet Knit Dress']"
      ]
     },
     "execution_count": 148,
     "metadata": {},
     "output_type": "execute_result"
    }
   ],
   "source": [
    "names"
   ]
  },
  {
   "cell_type": "code",
   "execution_count": 170,
   "id": "fa44251e",
   "metadata": {},
   "outputs": [],
   "source": [
    "#scrapping the website using selenium webdriver \n",
    "images=[]\n",
    "for x,item in enumerate(items):\n",
    "    url=f'https://ap0cene.com/collections/yue-qing-wei-1/products/{item}'\n",
    "    \n",
    "    webdriver = wbdv.Chrome()\n",
    "    webdriver.get(url)\n",
    "    time.sleep(2)\n",
    "\n",
    "    webdriver.execute_script(\"window.scrollTo(0, document.body.scrollHeight);\")\n",
    "    time.sleep(5)\n",
    "    html = bs(webdriver.page_source,'html.parser')\n",
    "\n",
    "    uls = html.find_all('img',alt=f'{names[x]}')\n",
    "    for i in uls:\n",
    "        try: \n",
    "            images.append(f'http:{i[\"src\"]}')\n",
    "        except:\n",
    "            pass "
   ]
  },
  {
   "cell_type": "code",
   "execution_count": 171,
   "id": "459b85c6",
   "metadata": {},
   "outputs": [
    {
     "data": {
      "text/plain": [
       "['http://cdn.shopify.com/s/files/1/0542/1803/1277/products/kJ7OcwB19I_2048x2048.jpg?v=1648057231',\n",
       " 'http://cdn.shopify.com/s/files/1/0542/1803/1277/products/XChyWB7wYF_2048x2048.jpg?v=1648057231',\n",
       " 'http://cdn.shopify.com/s/files/1/0542/1803/1277/products/yiFg2oXMmk_2048x2048.jpg?v=1648057231',\n",
       " 'http://cdn.shopify.com/s/files/1/0542/1803/1277/products/bEGnAsQmmA_2048x2048.jpg?v=1647045765',\n",
       " 'http://cdn.shopify.com/s/files/1/0542/1803/1277/products/3NaMNkriya_2048x2048.jpg?v=1647045765',\n",
       " 'http://cdn.shopify.com/s/files/1/0542/1803/1277/products/uFYtv1ZWmZ_2048x2048.jpg?v=1648065987',\n",
       " 'http://cdn.shopify.com/s/files/1/0542/1803/1277/products/flVuTOBq2r_2048x2048.jpg?v=1648065969',\n",
       " 'http://cdn.shopify.com/s/files/1/0542/1803/1277/products/mgKU3s3ok5_2048x2048.jpg?v=1648065969',\n",
       " 'http://cdn.shopify.com/s/files/1/0542/1803/1277/products/e7Z83YVjZP_2048x2048.jpg?v=1648065969',\n",
       " 'http://cdn.shopify.com/s/files/1/0542/1803/1277/products/xeinVZckST_2048x2048.jpg?v=1648065969',\n",
       " 'http://cdn.shopify.com/s/files/1/0542/1803/1277/products/KzA109anWo_2048x2048.jpg?v=1647045887',\n",
       " 'http://cdn.shopify.com/s/files/1/0542/1803/1277/products/yex6chy0eM_2048x2048.jpg?v=1647045887',\n",
       " 'http://cdn.shopify.com/s/files/1/0542/1803/1277/products/BWihhxe1YE_2048x2048.jpg?v=1647045887',\n",
       " 'http://cdn.shopify.com/s/files/1/0542/1803/1277/products/SNit4TdlGv_2048x2048.jpg?v=1647045887',\n",
       " 'http://cdn.shopify.com/s/files/1/0542/1803/1277/products/SA2RFZD3cD_2048x2048.jpg?v=1647045887',\n",
       " 'http://cdn.shopify.com/s/files/1/0542/1803/1277/products/EWKoRSsgx0_2048x2048.jpg?v=1647045719',\n",
       " 'http://cdn.shopify.com/s/files/1/0542/1803/1277/products/r3Kx7q6zPA_2048x2048.jpg?v=1647045719',\n",
       " 'http://cdn.shopify.com/s/files/1/0542/1803/1277/products/KrovWpT32v_2048x2048.jpg?v=1647044578',\n",
       " 'http://cdn.shopify.com/s/files/1/0542/1803/1277/products/mfhIrc6fmT_2048x2048.jpg?v=1647044578',\n",
       " 'http://cdn.shopify.com/s/files/1/0542/1803/1277/products/5U6KUORIRS_2048x2048.jpg?v=1647044578']"
      ]
     },
     "execution_count": 171,
     "metadata": {},
     "output_type": "execute_result"
    }
   ],
   "source": [
    "images"
   ]
  },
  {
   "cell_type": "code",
   "execution_count": 177,
   "id": "3daaf0ba",
   "metadata": {},
   "outputs": [],
   "source": [
    "for x,image in enumerate(images):\n",
    "    r = requests.get(image,stream=True).content\n",
    "    with open(f'images/image_{x}.jpg', 'wb') as handler:\n",
    "        handler.write(r)"
   ]
  },
  {
   "cell_type": "code",
   "execution_count": 173,
   "id": "f2252876",
   "metadata": {},
   "outputs": [],
   "source": []
  },
  {
   "cell_type": "code",
   "execution_count": 174,
   "id": "15780a52",
   "metadata": {},
   "outputs": [],
   "source": []
  },
  {
   "cell_type": "code",
   "execution_count": null,
   "id": "24ca023c",
   "metadata": {},
   "outputs": [],
   "source": []
  }
 ],
 "metadata": {
  "kernelspec": {
   "display_name": "Python 3 (ipykernel)",
   "language": "python",
   "name": "python3"
  },
  "language_info": {
   "codemirror_mode": {
    "name": "ipython",
    "version": 3
   },
   "file_extension": ".py",
   "mimetype": "text/x-python",
   "name": "python",
   "nbconvert_exporter": "python",
   "pygments_lexer": "ipython3",
   "version": "3.10.6"
  }
 },
 "nbformat": 4,
 "nbformat_minor": 5
}
