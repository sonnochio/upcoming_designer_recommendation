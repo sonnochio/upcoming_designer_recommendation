{
 "cells": [
  {
   "cell_type": "code",
   "execution_count": 1,
   "id": "c532b2c2",
   "metadata": {},
   "outputs": [],
   "source": [
    "import requests\n",
    "from selenium import webdriver as wbdv\n",
    "import time\n",
    "from bs4 import BeautifulSoup as bs"
   ]
  },
  {
   "cell_type": "code",
   "execution_count": 2,
   "id": "96c778f2",
   "metadata": {},
   "outputs": [],
   "source": [
    "url='https://ap0cene.com/collections/yue-qing-wei-1'"
   ]
  },
  {
   "cell_type": "code",
   "execution_count": 3,
   "id": "836bf9dd",
   "metadata": {},
   "outputs": [],
   "source": [
    "#scrap the main page of ap0cene and return designer items\n",
    "\n",
    "def designer_page_scrap(url):\n",
    "    r=requests.get(url)\n",
    "    soup=bs(r.content, \"html.parser\")\n",
    "    names=[]\n",
    "    items=[]\n",
    "    for i in soup.find_all(\"img\", class_=\"responsive-image block absolute top-0 left-0 w-full h-full lazyload transition-opacity duration-200 ease-in-out w-full max-w-full h-auto\" ):\n",
    "        names.append(i['alt'])\n",
    "        items.append('-'.join(i['alt'].lower().split()))\n",
    "        \n",
    "    return names,items\n",
    "        "
   ]
  },
  {
   "cell_type": "code",
   "execution_count": 4,
   "id": "e08deb0b",
   "metadata": {},
   "outputs": [],
   "source": [
    "names=designer_page_scrap(url)[0]"
   ]
  },
  {
   "cell_type": "code",
   "execution_count": 5,
   "id": "9b92110d",
   "metadata": {},
   "outputs": [],
   "source": [
    "items=designer_page_scrap(url)[1]"
   ]
  },
  {
   "cell_type": "code",
   "execution_count": 6,
   "id": "79d80959",
   "metadata": {
    "scrolled": true
   },
   "outputs": [
    {
     "data": {
      "text/plain": [
       "['Cut Out Lace Sleeve',\n",
       " 'Chestnut Cut Out Corset Top',\n",
       " 'Ocean Wave Cut Out Mini Dress',\n",
       " 'Cut Out Lace Tights',\n",
       " 'Violet Knit Dress']"
      ]
     },
     "execution_count": 6,
     "metadata": {},
     "output_type": "execute_result"
    }
   ],
   "source": [
    "names"
   ]
  },
  {
   "cell_type": "code",
   "execution_count": 7,
   "id": "a86c554b",
   "metadata": {
    "scrolled": true
   },
   "outputs": [
    {
     "data": {
      "text/plain": [
       "['cut-out-lace-sleeve',\n",
       " 'chestnut-cut-out-corset-top',\n",
       " 'ocean-wave-cut-out-mini-dress',\n",
       " 'cut-out-lace-tights',\n",
       " 'violet-knit-dress']"
      ]
     },
     "execution_count": 7,
     "metadata": {},
     "output_type": "execute_result"
    }
   ],
   "source": [
    "items"
   ]
  },
  {
   "cell_type": "code",
   "execution_count": 8,
   "id": "0a82b96f",
   "metadata": {},
   "outputs": [],
   "source": [
    "#scrapping the website using selenium webdriver \n",
    "\n",
    "def scrap_image(items,names):\n",
    "\n",
    "    images=[]\n",
    "    for x,item in enumerate(items):\n",
    "        url=f'https://ap0cene.com/collections/yue-qing-wei-1/products/{item}'\n",
    "\n",
    "        webdriver = wbdv.Chrome()\n",
    "        webdriver.get(url)\n",
    "        time.sleep(2)\n",
    "\n",
    "        webdriver.execute_script(\"window.scrollTo(0, document.body.scrollHeight);\")\n",
    "        time.sleep(5)\n",
    "        html = bs(webdriver.page_source,'html.parser')\n",
    "\n",
    "        uls = html.find_all('img',alt=f'{names[x]}')\n",
    "        for i in uls:\n",
    "            try: \n",
    "                images.append(f'http:{i[\"src\"]}')\n",
    "            except:\n",
    "                pass \n",
    "    return images"
   ]
  },
  {
   "cell_type": "code",
   "execution_count": 9,
   "id": "94f08951",
   "metadata": {},
   "outputs": [],
   "source": [
    "images=scrap_image(items,names)"
   ]
  },
  {
   "cell_type": "code",
   "execution_count": 10,
   "id": "91573c25",
   "metadata": {},
   "outputs": [
    {
     "data": {
      "text/plain": [
       "['http://cdn.shopify.com/s/files/1/0542/1803/1277/products/kJ7OcwB19I_2048x2048.jpg?v=1648057231',\n",
       " 'http://cdn.shopify.com/s/files/1/0542/1803/1277/products/XChyWB7wYF_2048x2048.jpg?v=1648057231',\n",
       " 'http://cdn.shopify.com/s/files/1/0542/1803/1277/products/yiFg2oXMmk_2048x2048.jpg?v=1648057231',\n",
       " 'http://cdn.shopify.com/s/files/1/0542/1803/1277/products/bEGnAsQmmA_2048x2048.jpg?v=1647045765',\n",
       " 'http://cdn.shopify.com/s/files/1/0542/1803/1277/products/3NaMNkriya_2048x2048.jpg?v=1647045765',\n",
       " 'http://cdn.shopify.com/s/files/1/0542/1803/1277/products/uFYtv1ZWmZ_2048x2048.jpg?v=1648065987',\n",
       " 'http://cdn.shopify.com/s/files/1/0542/1803/1277/products/flVuTOBq2r_2048x2048.jpg?v=1648065969',\n",
       " 'http://cdn.shopify.com/s/files/1/0542/1803/1277/products/mgKU3s3ok5_2048x2048.jpg?v=1648065969',\n",
       " 'http://cdn.shopify.com/s/files/1/0542/1803/1277/products/e7Z83YVjZP_2048x2048.jpg?v=1648065969',\n",
       " 'http://cdn.shopify.com/s/files/1/0542/1803/1277/products/xeinVZckST_2048x2048.jpg?v=1648065969',\n",
       " 'http://cdn.shopify.com/s/files/1/0542/1803/1277/products/KzA109anWo_2048x2048.jpg?v=1647045887',\n",
       " 'http://cdn.shopify.com/s/files/1/0542/1803/1277/products/yex6chy0eM_2048x2048.jpg?v=1647045887',\n",
       " 'http://cdn.shopify.com/s/files/1/0542/1803/1277/products/BWihhxe1YE_2048x2048.jpg?v=1647045887',\n",
       " 'http://cdn.shopify.com/s/files/1/0542/1803/1277/products/SNit4TdlGv_2048x2048.jpg?v=1647045887',\n",
       " 'http://cdn.shopify.com/s/files/1/0542/1803/1277/products/SA2RFZD3cD_2048x2048.jpg?v=1647045887',\n",
       " 'http://cdn.shopify.com/s/files/1/0542/1803/1277/products/EWKoRSsgx0_2048x2048.jpg?v=1647045719',\n",
       " 'http://cdn.shopify.com/s/files/1/0542/1803/1277/products/r3Kx7q6zPA_2048x2048.jpg?v=1647045719',\n",
       " 'http://cdn.shopify.com/s/files/1/0542/1803/1277/products/KrovWpT32v_2048x2048.jpg?v=1647044578',\n",
       " 'http://cdn.shopify.com/s/files/1/0542/1803/1277/products/mfhIrc6fmT_2048x2048.jpg?v=1647044578',\n",
       " 'http://cdn.shopify.com/s/files/1/0542/1803/1277/products/5U6KUORIRS_2048x2048.jpg?v=1647044578']"
      ]
     },
     "execution_count": 10,
     "metadata": {},
     "output_type": "execute_result"
    }
   ],
   "source": [
    "images"
   ]
  },
  {
   "cell_type": "code",
   "execution_count": 11,
   "id": "7fabe10f",
   "metadata": {},
   "outputs": [],
   "source": [
    "#save the images locally from the url\n",
    "\n",
    "def save_images(images):\n",
    "    for x,image in enumerate(images):\n",
    "        r = requests.get(image, stream=True).content\n",
    "        with open(f'images/image_{x}.jpg', 'wb') as handler:\n",
    "            handler.write(r)\n",
    "    \n",
    "    print('all images saved locally')\n",
    "    pass"
   ]
  },
  {
   "cell_type": "code",
   "execution_count": 12,
   "id": "ad86154f",
   "metadata": {},
   "outputs": [
    {
     "name": "stdout",
     "output_type": "stream",
     "text": [
      "all images saved locally\n"
     ]
    }
   ],
   "source": [
    "save_images(images)"
   ]
  },
  {
   "cell_type": "code",
   "execution_count": 13,
   "id": "ae867da4",
   "metadata": {},
   "outputs": [],
   "source": [
    "r = requests.get(images[0], stream=True).content"
   ]
  },
  {
   "cell_type": "code",
   "execution_count": 14,
   "id": "4225f308",
   "metadata": {},
   "outputs": [],
   "source": [
    "with open('images/image_test.jpg', 'wb') as file: \n",
    "    file.write(r)"
   ]
  },
  {
   "cell_type": "code",
   "execution_count": 15,
   "id": "4b18fb4f",
   "metadata": {},
   "outputs": [
    {
     "name": "stdout",
     "output_type": "stream",
     "text": [
      "README.md     ap0cene.ipynb \u001b[1m\u001b[36mimages\u001b[m\u001b[m\r\n"
     ]
    }
   ],
   "source": [
    "!ls "
   ]
  },
  {
   "cell_type": "code",
   "execution_count": 16,
   "id": "524845d2",
   "metadata": {},
   "outputs": [
    {
     "name": "stdout",
     "output_type": "stream",
     "text": [
      "all images saved locally\n"
     ]
    }
   ],
   "source": [
    "for x,image in enumerate(images):\n",
    "    r = requests.get(image, stream=True).content\n",
    "    with open(f'images/image_{x}.jpg', 'wb') as handler:\n",
    "            handler.write(r)\n",
    "    \n",
    "print('all images saved locally')"
   ]
  },
  {
   "cell_type": "code",
   "execution_count": 17,
   "id": "3b1130a4",
   "metadata": {},
   "outputs": [
    {
     "data": {
      "text/plain": [
       "['http://cdn.shopify.com/s/files/1/0542/1803/1277/products/kJ7OcwB19I_2048x2048.jpg?v=1648057231',\n",
       " 'http://cdn.shopify.com/s/files/1/0542/1803/1277/products/XChyWB7wYF_2048x2048.jpg?v=1648057231',\n",
       " 'http://cdn.shopify.com/s/files/1/0542/1803/1277/products/yiFg2oXMmk_2048x2048.jpg?v=1648057231',\n",
       " 'http://cdn.shopify.com/s/files/1/0542/1803/1277/products/bEGnAsQmmA_2048x2048.jpg?v=1647045765',\n",
       " 'http://cdn.shopify.com/s/files/1/0542/1803/1277/products/3NaMNkriya_2048x2048.jpg?v=1647045765',\n",
       " 'http://cdn.shopify.com/s/files/1/0542/1803/1277/products/uFYtv1ZWmZ_2048x2048.jpg?v=1648065987',\n",
       " 'http://cdn.shopify.com/s/files/1/0542/1803/1277/products/flVuTOBq2r_2048x2048.jpg?v=1648065969',\n",
       " 'http://cdn.shopify.com/s/files/1/0542/1803/1277/products/mgKU3s3ok5_2048x2048.jpg?v=1648065969',\n",
       " 'http://cdn.shopify.com/s/files/1/0542/1803/1277/products/e7Z83YVjZP_2048x2048.jpg?v=1648065969',\n",
       " 'http://cdn.shopify.com/s/files/1/0542/1803/1277/products/xeinVZckST_2048x2048.jpg?v=1648065969',\n",
       " 'http://cdn.shopify.com/s/files/1/0542/1803/1277/products/KzA109anWo_2048x2048.jpg?v=1647045887',\n",
       " 'http://cdn.shopify.com/s/files/1/0542/1803/1277/products/yex6chy0eM_2048x2048.jpg?v=1647045887',\n",
       " 'http://cdn.shopify.com/s/files/1/0542/1803/1277/products/BWihhxe1YE_2048x2048.jpg?v=1647045887',\n",
       " 'http://cdn.shopify.com/s/files/1/0542/1803/1277/products/SNit4TdlGv_2048x2048.jpg?v=1647045887',\n",
       " 'http://cdn.shopify.com/s/files/1/0542/1803/1277/products/SA2RFZD3cD_2048x2048.jpg?v=1647045887',\n",
       " 'http://cdn.shopify.com/s/files/1/0542/1803/1277/products/EWKoRSsgx0_2048x2048.jpg?v=1647045719',\n",
       " 'http://cdn.shopify.com/s/files/1/0542/1803/1277/products/r3Kx7q6zPA_2048x2048.jpg?v=1647045719',\n",
       " 'http://cdn.shopify.com/s/files/1/0542/1803/1277/products/KrovWpT32v_2048x2048.jpg?v=1647044578',\n",
       " 'http://cdn.shopify.com/s/files/1/0542/1803/1277/products/mfhIrc6fmT_2048x2048.jpg?v=1647044578',\n",
       " 'http://cdn.shopify.com/s/files/1/0542/1803/1277/products/5U6KUORIRS_2048x2048.jpg?v=1647044578']"
      ]
     },
     "execution_count": 17,
     "metadata": {},
     "output_type": "execute_result"
    }
   ],
   "source": [
    "images"
   ]
  },
  {
   "cell_type": "code",
   "execution_count": null,
   "id": "011a0788",
   "metadata": {},
   "outputs": [],
   "source": []
  }
 ],
 "metadata": {
  "kernelspec": {
   "display_name": "Python 3 (ipykernel)",
   "language": "python",
   "name": "python3"
  },
  "language_info": {
   "codemirror_mode": {
    "name": "ipython",
    "version": 3
   },
   "file_extension": ".py",
   "mimetype": "text/x-python",
   "name": "python",
   "nbconvert_exporter": "python",
   "pygments_lexer": "ipython3",
   "version": "3.10.6"
  }
 },
 "nbformat": 4,
 "nbformat_minor": 5
}
