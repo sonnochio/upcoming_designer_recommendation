{
 "cells": [
  {
   "cell_type": "code",
   "execution_count": 1,
   "id": "6c0ca4ad",
   "metadata": {},
   "outputs": [],
   "source": [
    "import pandas as pd\n",
    "import numpy as np\n",
    "import matplotlib.pyplot as plt\n",
    "import seaborn as sns\n",
    "import os\n",
    "import pickle as pkl\n"
   ]
  },
  {
   "cell_type": "markdown",
   "id": "a30a08bc",
   "metadata": {},
   "source": [
    "# Image Preprocessing\n",
    "\n",
    "accessing the sample images and resize the our designer photos accordingly"
   ]
  },
  {
   "cell_type": "code",
   "execution_count": 2,
   "id": "ba2fb22a",
   "metadata": {},
   "outputs": [],
   "source": [
    "from PIL import Image\n",
    "from google.cloud import storage"
   ]
  },
  {
   "cell_type": "code",
   "execution_count": 3,
   "id": "765ea5f8",
   "metadata": {
    "tags": []
   },
   "outputs": [],
   "source": [
    "#image=Image.open('sample_images/18753.jpg') is a good one to look at\n",
    "#load sample image\n",
    "image=Image.open('designer_images/image_1.jpg')\n"
   ]
  },
  {
   "cell_type": "code",
   "execution_count": 4,
   "id": "36b9c3a3",
   "metadata": {},
   "outputs": [],
   "source": [
    "data = np.asarray(image, dtype=\"int32\" )"
   ]
  },
  {
   "cell_type": "code",
   "execution_count": 5,
   "id": "e6c4c955",
   "metadata": {},
   "outputs": [
    {
     "data": {
      "text/plain": [
       "(900, 900)"
      ]
     },
     "execution_count": 5,
     "metadata": {},
     "output_type": "execute_result"
    }
   ],
   "source": [
    "data.shape[:2]"
   ]
  },
  {
   "cell_type": "code",
   "execution_count": 6,
   "id": "40c2b458",
   "metadata": {},
   "outputs": [],
   "source": [
    "#load designer image\n",
    "\n",
    "image2 = Image.open('designer_images/image_10.jpg').resize((60,80))"
   ]
  },
  {
   "cell_type": "code",
   "execution_count": 7,
   "id": "1ddc870d",
   "metadata": {},
   "outputs": [],
   "source": [
    "data2 = np.asarray(image2, dtype=\"int32\" )"
   ]
  },
  {
   "cell_type": "code",
   "execution_count": 8,
   "id": "116ba6f5",
   "metadata": {
    "scrolled": true
   },
   "outputs": [
    {
     "data": {
      "text/plain": [
       "(80, 60, 3)"
      ]
     },
     "execution_count": 8,
     "metadata": {},
     "output_type": "execute_result"
    }
   ],
   "source": [
    "data2.shape "
   ]
  },
  {
   "cell_type": "markdown",
   "id": "ab6b7be3",
   "metadata": {},
   "source": [
    "## Designer images "
   ]
  },
  {
   "cell_type": "code",
   "execution_count": 9,
   "id": "d54f96e7",
   "metadata": {},
   "outputs": [],
   "source": [
    "# bulk resizing designer images\n",
    "\n",
    "def resizing(url):\n",
    "    image=Image.open(url).resize((60,80))\n",
    "    data=np.asarray(image, dtype=\"int32\")\n",
    "    return data "
   ]
  },
  {
   "cell_type": "code",
   "execution_count": 10,
   "id": "e6ba45e4",
   "metadata": {},
   "outputs": [],
   "source": [
    "PATH=os.getcwd()"
   ]
  },
  {
   "cell_type": "code",
   "execution_count": 11,
   "id": "26eeda02",
   "metadata": {},
   "outputs": [],
   "source": [
    "DESIGNER_PATH=os.path.join(PATH,'designer_images')\n"
   ]
  },
  {
   "cell_type": "code",
   "execution_count": 12,
   "id": "ae460852",
   "metadata": {},
   "outputs": [
    {
     "data": {
      "text/plain": [
       "'image_15.jpg'"
      ]
     },
     "execution_count": 12,
     "metadata": {},
     "output_type": "execute_result"
    }
   ],
   "source": [
    "designer_image_files=os.listdir(DESIGNER_PATH)\n",
    "designer_image_files[0]"
   ]
  },
  {
   "cell_type": "code",
   "execution_count": 13,
   "id": "6e5ae8c9",
   "metadata": {},
   "outputs": [],
   "source": [
    "#bulk preprecessing designer images as numpy arrays\n",
    "\n",
    "data=[]\n",
    "for file in designer_image_files:\n",
    "    url=os.path.join(DESIGNER_PATH, file)\n",
    "    data.append(resizing(url))\n",
    "    "
   ]
  },
  {
   "cell_type": "code",
   "execution_count": 14,
   "id": "be73ab82",
   "metadata": {},
   "outputs": [
    {
     "data": {
      "text/plain": [
       "(20, 80, 60, 3)"
      ]
     },
     "execution_count": 14,
     "metadata": {},
     "output_type": "execute_result"
    }
   ],
   "source": [
    "designer_data=np.array(data)\n",
    "designer_data.shape"
   ]
  },
  {
   "cell_type": "markdown",
   "id": "f4208738",
   "metadata": {},
   "source": [
    "## Sample Images"
   ]
  },
  {
   "cell_type": "code",
   "execution_count": 15,
   "id": "c6e095ef",
   "metadata": {},
   "outputs": [
    {
     "name": "stdout",
     "output_type": "stream",
     "text": [
      "/bin/bash: LS: command not found\n"
     ]
    }
   ],
   "source": [
    "!LS"
   ]
  },
  {
   "cell_type": "code",
   "execution_count": 16,
   "id": "14755753",
   "metadata": {
    "scrolled": true
   },
   "outputs": [
    {
     "data": {
      "text/plain": [
       "'/home/jupyter/sample_images'"
      ]
     },
     "execution_count": 16,
     "metadata": {},
     "output_type": "execute_result"
    }
   ],
   "source": [
    "SAMPLE_PATH=os.path.join(PATH,'sample_images')\n",
    "SAMPLE_PATH"
   ]
  },
  {
   "cell_type": "code",
   "execution_count": 17,
   "id": "fa2ff827",
   "metadata": {},
   "outputs": [
    {
     "data": {
      "text/plain": [
       "'52045.jpg'"
      ]
     },
     "execution_count": 17,
     "metadata": {},
     "output_type": "execute_result"
    }
   ],
   "source": [
    "sample_files=os.listdir(SAMPLE_PATH)\n",
    "sample_files[0]"
   ]
  },
  {
   "cell_type": "code",
   "execution_count": 18,
   "id": "81d9bd96",
   "metadata": {},
   "outputs": [],
   "source": [
    "#loading sample images\n",
    "def load_sample_images(url):\n",
    "    image=Image.open(url)\n",
    "    data=np.asarray(image, dtype=\"int32\")\n",
    "    return data "
   ]
  },
  {
   "cell_type": "code",
   "execution_count": 19,
   "id": "d0b42e5e",
   "metadata": {},
   "outputs": [],
   "source": [
    "# #convert to np array\n",
    "# sample_data=[]\n",
    "\n",
    "# for file in sample_files:\n",
    "#     url=os.path.join(SAMPLE_PATH, file)\n",
    "#     array=resizing(url)\n",
    "#     if array.shape == data2.shape: #specifying shape to avoid faulty data\n",
    "#         sample_data.append(array)"
   ]
  },
  {
   "cell_type": "code",
   "execution_count": 20,
   "id": "76b5717c",
   "metadata": {},
   "outputs": [],
   "source": [
    "# sample_data=np.array(sample_data)\n",
    "# sample_data.shape"
   ]
  },
  {
   "cell_type": "code",
   "execution_count": 21,
   "id": "7d8c0ac6-0f19-40be-838e-25077555f44d",
   "metadata": {},
   "outputs": [],
   "source": [
    "# with open('sample_data.pkl','wb') as handler:\n",
    "#     pkl.dump(sample_data, handler)"
   ]
  },
  {
   "cell_type": "code",
   "execution_count": 22,
   "id": "b1776b94-d7be-4d95-8320-438b01f0cc41",
   "metadata": {},
   "outputs": [],
   "source": [
    "with open('sample_data.pkl','rb') as handler:\n",
    "    sample_data=pkl.load(handler)"
   ]
  },
  {
   "cell_type": "code",
   "execution_count": 23,
   "id": "49247036-15f2-4d20-beec-892babce5c5d",
   "metadata": {},
   "outputs": [],
   "source": [
    "sample_data=sample_data.astype('float32')/255"
   ]
  },
  {
   "cell_type": "code",
   "execution_count": 24,
   "id": "9b59d419-f7f8-4e85-b4f2-eb898061fca3",
   "metadata": {},
   "outputs": [
    {
     "data": {
      "text/plain": [
       "dtype('float32')"
      ]
     },
     "execution_count": 24,
     "metadata": {},
     "output_type": "execute_result"
    }
   ],
   "source": [
    "sample_data[0].dtype"
   ]
  },
  {
   "cell_type": "markdown",
   "id": "6d979e1e",
   "metadata": {},
   "source": [
    "# Autoencoder"
   ]
  },
  {
   "cell_type": "markdown",
   "id": "34579a58",
   "metadata": {},
   "source": [
    "## Encoder"
   ]
  },
  {
   "cell_type": "code",
   "execution_count": 25,
   "id": "eefdd138",
   "metadata": {},
   "outputs": [
    {
     "name": "stderr",
     "output_type": "stream",
     "text": [
      "2022-12-31 01:29:00.122852: I tensorflow/core/platform/cpu_feature_guard.cc:193] This TensorFlow binary is optimized with oneAPI Deep Neural Network Library (oneDNN) to use the following CPU instructions in performance-critical operations:  AVX2 FMA\n",
      "To enable them in other operations, rebuild TensorFlow with the appropriate compiler flags.\n",
      "2022-12-31 01:29:00.579149: E tensorflow/stream_executor/cuda/cuda_blas.cc:2981] Unable to register cuBLAS factory: Attempting to register factory for plugin cuBLAS when one has already been registered\n",
      "2022-12-31 01:29:02.353069: W tensorflow/stream_executor/platform/default/dso_loader.cc:64] Could not load dynamic library 'libnvinfer.so.7'; dlerror: libnvinfer.so.7: cannot open shared object file: No such file or directory; LD_LIBRARY_PATH: /usr/local/cuda/lib64:/usr/local/cuda/lib:/usr/local/lib/x86_64-linux-gnu:/usr/local/nvidia/lib:/usr/local/nvidia/lib64:/usr/local/nvidia/lib:/usr/local/nvidia/lib64\n",
      "2022-12-31 01:29:02.353496: W tensorflow/stream_executor/platform/default/dso_loader.cc:64] Could not load dynamic library 'libnvinfer_plugin.so.7'; dlerror: libnvinfer_plugin.so.7: cannot open shared object file: No such file or directory; LD_LIBRARY_PATH: /usr/local/cuda/lib64:/usr/local/cuda/lib:/usr/local/lib/x86_64-linux-gnu:/usr/local/nvidia/lib:/usr/local/nvidia/lib64:/usr/local/nvidia/lib:/usr/local/nvidia/lib64\n",
      "2022-12-31 01:29:02.353526: W tensorflow/compiler/tf2tensorrt/utils/py_utils.cc:38] TF-TRT Warning: Cannot dlopen some TensorRT libraries. If you would like to use Nvidia GPU with TensorRT, please make sure the missing libraries mentioned above are installed properly.\n"
     ]
    }
   ],
   "source": [
    "from tensorflow.keras import Sequential\n",
    "from tensorflow.keras.layers import Conv2D, MaxPooling2D, Flatten, Dense"
   ]
  },
  {
   "cell_type": "code",
   "execution_count": 26,
   "id": "9a332108",
   "metadata": {},
   "outputs": [],
   "source": [
    "def build_encoder(latent_dimension):\n",
    "    encoder=Sequential()\n",
    "    \n",
    "    encoder.add(Conv2D(8,(3,3), input_shape=(80,60,3), activation='relu'))\n",
    "    encoder.add(MaxPooling2D(2))\n",
    "    \n",
    "    encoder.add(Conv2D(16, (3, 3), activation='relu'))\n",
    "    encoder.add(MaxPooling2D(2))\n",
    "\n",
    "    encoder.add(Conv2D(32, (3, 2), activation='relu'))\n",
    "    encoder.add(MaxPooling2D(2))    \n",
    "    \n",
    "    encoder.add(Flatten())\n",
    "    encoder.add(Dense(latent_dimension, activation='sigmoid'))\n",
    "    \n",
    "    return encoder"
   ]
  },
  {
   "cell_type": "code",
   "execution_count": 27,
   "id": "9c1be106",
   "metadata": {},
   "outputs": [
    {
     "name": "stderr",
     "output_type": "stream",
     "text": [
      "2022-12-31 01:29:10.159966: I tensorflow/stream_executor/cuda/cuda_gpu_executor.cc:980] successful NUMA node read from SysFS had negative value (-1), but there must be at least one NUMA node, so returning NUMA node zero\n",
      "2022-12-31 01:29:10.309002: I tensorflow/stream_executor/cuda/cuda_gpu_executor.cc:980] successful NUMA node read from SysFS had negative value (-1), but there must be at least one NUMA node, so returning NUMA node zero\n",
      "2022-12-31 01:29:10.310999: I tensorflow/stream_executor/cuda/cuda_gpu_executor.cc:980] successful NUMA node read from SysFS had negative value (-1), but there must be at least one NUMA node, so returning NUMA node zero\n",
      "2022-12-31 01:29:10.313588: I tensorflow/core/platform/cpu_feature_guard.cc:193] This TensorFlow binary is optimized with oneAPI Deep Neural Network Library (oneDNN) to use the following CPU instructions in performance-critical operations:  AVX2 FMA\n",
      "To enable them in other operations, rebuild TensorFlow with the appropriate compiler flags.\n",
      "2022-12-31 01:29:10.314212: I tensorflow/stream_executor/cuda/cuda_gpu_executor.cc:980] successful NUMA node read from SysFS had negative value (-1), but there must be at least one NUMA node, so returning NUMA node zero\n",
      "2022-12-31 01:29:10.316003: I tensorflow/stream_executor/cuda/cuda_gpu_executor.cc:980] successful NUMA node read from SysFS had negative value (-1), but there must be at least one NUMA node, so returning NUMA node zero\n",
      "2022-12-31 01:29:10.317692: I tensorflow/stream_executor/cuda/cuda_gpu_executor.cc:980] successful NUMA node read from SysFS had negative value (-1), but there must be at least one NUMA node, so returning NUMA node zero\n",
      "2022-12-31 01:29:11.111599: I tensorflow/stream_executor/cuda/cuda_gpu_executor.cc:980] successful NUMA node read from SysFS had negative value (-1), but there must be at least one NUMA node, so returning NUMA node zero\n",
      "2022-12-31 01:29:11.113783: I tensorflow/stream_executor/cuda/cuda_gpu_executor.cc:980] successful NUMA node read from SysFS had negative value (-1), but there must be at least one NUMA node, so returning NUMA node zero\n",
      "2022-12-31 01:29:11.115695: I tensorflow/stream_executor/cuda/cuda_gpu_executor.cc:980] successful NUMA node read from SysFS had negative value (-1), but there must be at least one NUMA node, so returning NUMA node zero\n",
      "2022-12-31 01:29:11.117436: I tensorflow/core/common_runtime/gpu/gpu_device.cc:1616] Created device /job:localhost/replica:0/task:0/device:GPU:0 with 13584 MB memory:  -> device: 0, name: Tesla T4, pci bus id: 0000:00:04.0, compute capability: 7.5\n"
     ]
    }
   ],
   "source": [
    "encoder=build_encoder(50)"
   ]
  },
  {
   "cell_type": "code",
   "execution_count": 28,
   "id": "e2bc576f-aa85-4d2d-a76a-30ef3a23080c",
   "metadata": {},
   "outputs": [
    {
     "name": "stdout",
     "output_type": "stream",
     "text": [
      "Model: \"sequential\"\n",
      "_________________________________________________________________\n",
      " Layer (type)                Output Shape              Param #   \n",
      "=================================================================\n",
      " conv2d (Conv2D)             (None, 78, 58, 8)         224       \n",
      "                                                                 \n",
      " max_pooling2d (MaxPooling2D  (None, 39, 29, 8)        0         \n",
      " )                                                               \n",
      "                                                                 \n",
      " conv2d_1 (Conv2D)           (None, 37, 27, 16)        1168      \n",
      "                                                                 \n",
      " max_pooling2d_1 (MaxPooling  (None, 18, 13, 16)       0         \n",
      " 2D)                                                             \n",
      "                                                                 \n",
      " conv2d_2 (Conv2D)           (None, 16, 12, 32)        3104      \n",
      "                                                                 \n",
      " max_pooling2d_2 (MaxPooling  (None, 8, 6, 32)         0         \n",
      " 2D)                                                             \n",
      "                                                                 \n",
      " flatten (Flatten)           (None, 1536)              0         \n",
      "                                                                 \n",
      " dense (Dense)               (None, 50)                76850     \n",
      "                                                                 \n",
      "=================================================================\n",
      "Total params: 81,346\n",
      "Trainable params: 81,346\n",
      "Non-trainable params: 0\n",
      "_________________________________________________________________\n"
     ]
    }
   ],
   "source": [
    "encoder.summary()"
   ]
  },
  {
   "cell_type": "code",
   "execution_count": 29,
   "id": "c50a197e",
   "metadata": {
    "scrolled": true,
    "tags": []
   },
   "outputs": [
    {
     "name": "stderr",
     "output_type": "stream",
     "text": [
      "2022-12-31 01:29:12.384841: I tensorflow/stream_executor/cuda/cuda_dnn.cc:384] Loaded cuDNN version 8200\n"
     ]
    },
    {
     "name": "stdout",
     "output_type": "stream",
     "text": [
      "1/1 [==============================] - 2s 2s/step\n"
     ]
    }
   ],
   "source": [
    "designer_latent=encoder.predict(designer_data)"
   ]
  },
  {
   "cell_type": "code",
   "execution_count": 30,
   "id": "4c93e3b2",
   "metadata": {
    "tags": []
   },
   "outputs": [
    {
     "data": {
      "text/plain": [
       "(20, 50)"
      ]
     },
     "execution_count": 30,
     "metadata": {},
     "output_type": "execute_result"
    }
   ],
   "source": [
    "designer_latent.shape"
   ]
  },
  {
   "cell_type": "code",
   "execution_count": 31,
   "id": "6080a4ed",
   "metadata": {
    "scrolled": true
   },
   "outputs": [
    {
     "name": "stderr",
     "output_type": "stream",
     "text": [
      "2022-12-31 01:29:13.995549: W tensorflow/core/framework/cpu_allocator_impl.cc:82] Allocation of 2534976000 exceeds 10% of free system memory.\n",
      "2022-12-31 01:29:15.457631: W tensorflow/core/framework/cpu_allocator_impl.cc:82] Allocation of 2534976000 exceeds 10% of free system memory.\n"
     ]
    },
    {
     "name": "stdout",
     "output_type": "stream",
     "text": [
      "1376/1376 [==============================] - 4s 3ms/step\n"
     ]
    }
   ],
   "source": [
    "sample_latent=encoder.predict(sample_data)"
   ]
  },
  {
   "cell_type": "code",
   "execution_count": 32,
   "id": "dd8cc477",
   "metadata": {},
   "outputs": [
    {
     "data": {
      "text/plain": [
       "(44010, 50)"
      ]
     },
     "execution_count": 32,
     "metadata": {},
     "output_type": "execute_result"
    }
   ],
   "source": [
    "sample_latent.shape"
   ]
  },
  {
   "cell_type": "code",
   "execution_count": 33,
   "id": "cbc6af61",
   "metadata": {
    "tags": []
   },
   "outputs": [],
   "source": [
    "from tensorflow.keras.layers import Reshape, Conv2DTranspose"
   ]
  },
  {
   "cell_type": "code",
   "execution_count": 34,
   "id": "3a41ab72",
   "metadata": {},
   "outputs": [
    {
     "data": {
      "text/plain": [
       "array([20., 15.])"
      ]
     },
     "execution_count": 34,
     "metadata": {},
     "output_type": "execute_result"
    }
   ],
   "source": [
    "(np.array([80, 60])/2)/2"
   ]
  },
  {
   "cell_type": "code",
   "execution_count": 56,
   "id": "8388d6a8",
   "metadata": {},
   "outputs": [],
   "source": [
    "def build_decoder(latent_dimension):\n",
    "    decoder=Sequential()\n",
    "    \n",
    "    decoder.add(Dense(20*15*10, activation='tanh', input_shape=(latent_dimension,)))\n",
    "    \n",
    "    decoder.add(Reshape((20,15,10)))\n",
    "\n",
    "    decoder.add(Conv2DTranspose(3, (2, 2), strides=2, padding='same', activation='relu'))\n",
    "\n",
    "    decoder.add(Conv2DTranspose(3, (2, 2), strides=2, padding='same', activation='selu'))\n",
    "    \n",
    "    \n",
    "    return decoder"
   ]
  },
  {
   "cell_type": "code",
   "execution_count": 57,
   "id": "3f880b27",
   "metadata": {},
   "outputs": [],
   "source": [
    "decoder=build_decoder(50)"
   ]
  },
  {
   "cell_type": "code",
   "execution_count": 58,
   "id": "186d6c87",
   "metadata": {},
   "outputs": [
    {
     "name": "stdout",
     "output_type": "stream",
     "text": [
      "Model: \"sequential_2\"\n",
      "_________________________________________________________________\n",
      " Layer (type)                Output Shape              Param #   \n",
      "=================================================================\n",
      " dense_2 (Dense)             (None, 3000)              153000    \n",
      "                                                                 \n",
      " reshape_1 (Reshape)         (None, 20, 15, 10)        0         \n",
      "                                                                 \n",
      " conv2d_transpose_2 (Conv2DT  (None, 40, 30, 3)        123       \n",
      " ranspose)                                                       \n",
      "                                                                 \n",
      " conv2d_transpose_3 (Conv2DT  (None, 80, 60, 3)        39        \n",
      " ranspose)                                                       \n",
      "                                                                 \n",
      "=================================================================\n",
      "Total params: 153,162\n",
      "Trainable params: 153,162\n",
      "Non-trainable params: 0\n",
      "_________________________________________________________________\n"
     ]
    }
   ],
   "source": [
    "decoder.summary()"
   ]
  },
  {
   "cell_type": "code",
   "execution_count": 59,
   "id": "b66b882b",
   "metadata": {},
   "outputs": [],
   "source": [
    "from tensorflow.keras.layers import Input\n",
    "from tensorflow.keras import Model\n",
    "from tensorflow.keras.callbacks import EarlyStopping"
   ]
  },
  {
   "cell_type": "code",
   "execution_count": 60,
   "id": "96eae08c",
   "metadata": {},
   "outputs": [],
   "source": [
    "def build_model(encoder, decoder):\n",
    "    inp=Input((80,60,3))\n",
    "    encoded=encoder(inp)\n",
    "    decoded=decoder(encoded)\n",
    "    autoencoder=Model(inp,decoded)\n",
    "    \n",
    "    autoencoder.compile(loss='mse',\n",
    "              optimizer='adam')\n",
    "    return autoencoder"
   ]
  },
  {
   "cell_type": "code",
   "execution_count": 61,
   "id": "72671a8c",
   "metadata": {},
   "outputs": [],
   "source": [
    "autoencoder=build_model(encoder, decoder)"
   ]
  },
  {
   "cell_type": "code",
   "execution_count": 62,
   "id": "96ddbd36",
   "metadata": {},
   "outputs": [
    {
     "name": "stdout",
     "output_type": "stream",
     "text": [
      "Model: \"model_1\"\n",
      "_________________________________________________________________\n",
      " Layer (type)                Output Shape              Param #   \n",
      "=================================================================\n",
      " input_2 (InputLayer)        [(None, 80, 60, 3)]       0         \n",
      "                                                                 \n",
      " sequential (Sequential)     (None, 50)                81346     \n",
      "                                                                 \n",
      " sequential_2 (Sequential)   (None, 80, 60, 3)         153162    \n",
      "                                                                 \n",
      "=================================================================\n",
      "Total params: 234,508\n",
      "Trainable params: 234,508\n",
      "Non-trainable params: 0\n",
      "_________________________________________________________________\n"
     ]
    }
   ],
   "source": [
    "autoencoder.summary()"
   ]
  },
  {
   "cell_type": "code",
   "execution_count": 63,
   "id": "c9450ceb-bbce-448d-87eb-d9710f2b41c0",
   "metadata": {},
   "outputs": [],
   "source": [
    "sample_length=(sample_data.shape)[0]"
   ]
  },
  {
   "cell_type": "code",
   "execution_count": 64,
   "id": "da1a3230-2811-4d89-aa98-a2375a67548c",
   "metadata": {},
   "outputs": [
    {
     "data": {
      "text/plain": [
       "array([    0,  5000, 10000, 15000, 20000, 25000, 30000, 35000, 40000])"
      ]
     },
     "execution_count": 64,
     "metadata": {},
     "output_type": "execute_result"
    }
   ],
   "source": [
    "\n",
    "chunk_range=np.arange(0,sample_length,5000)\n",
    "chunk_range\n"
   ]
  },
  {
   "cell_type": "code",
   "execution_count": 65,
   "id": "dbfa1f6d-b94b-4ba2-9db5-5eb90a464c12",
   "metadata": {},
   "outputs": [
    {
     "data": {
      "text/plain": [
       "array([    0,  5000, 10000, 15000, 20000, 25000, 30000, 35000, 40000])"
      ]
     },
     "execution_count": 65,
     "metadata": {},
     "output_type": "execute_result"
    }
   ],
   "source": [
    "chunk_range"
   ]
  },
  {
   "cell_type": "code",
   "execution_count": 66,
   "id": "47231842-33f9-46dc-bf20-e932a9c9bfc0",
   "metadata": {},
   "outputs": [
    {
     "data": {
      "text/plain": [
       "8"
      ]
     },
     "execution_count": 66,
     "metadata": {},
     "output_type": "execute_result"
    }
   ],
   "source": [
    "k=len(chunk_range)-1\n",
    "k"
   ]
  },
  {
   "cell_type": "code",
   "execution_count": 52,
   "id": "a5e433af-a254-4e56-84d7-6ad16f4e3689",
   "metadata": {},
   "outputs": [
    {
     "name": "stdout",
     "output_type": "stream",
     "text": [
      "[ 0 : 5000 ]\n",
      "Epoch 1/15\n",
      "125/125 [==============================] - 1s 9ms/step - loss: 0.1148 - val_loss: 0.1144\n",
      "Epoch 2/15\n",
      "125/125 [==============================] - 1s 6ms/step - loss: 0.1148 - val_loss: 0.1144\n",
      "Epoch 3/15\n",
      "125/125 [==============================] - 1s 6ms/step - loss: 0.1148 - val_loss: 0.1145\n",
      "Epoch 4/15\n",
      "125/125 [==============================] - 1s 6ms/step - loss: 0.1148 - val_loss: 0.1144\n",
      "Epoch 5/15\n",
      "125/125 [==============================] - 1s 6ms/step - loss: 0.1148 - val_loss: 0.1144\n",
      "Epoch 6/15\n",
      "125/125 [==============================] - 1s 9ms/step - loss: 0.1148 - val_loss: 0.1144\n",
      "Epoch 7/15\n",
      "125/125 [==============================] - 1s 7ms/step - loss: 0.1148 - val_loss: 0.1144\n",
      "Epoch 8/15\n",
      "125/125 [==============================] - 1s 6ms/step - loss: 0.1147 - val_loss: 0.1144\n",
      "Epoch 9/15\n",
      "125/125 [==============================] - 1s 6ms/step - loss: 0.1147 - val_loss: 0.1144\n",
      "Epoch 10/15\n",
      "125/125 [==============================] - 1s 6ms/step - loss: 0.1148 - val_loss: 0.1144\n",
      "Epoch 11/15\n",
      "125/125 [==============================] - 1s 6ms/step - loss: 0.1147 - val_loss: 0.1144\n",
      "Epoch 12/15\n",
      "125/125 [==============================] - 1s 7ms/step - loss: 0.1147 - val_loss: 0.1144\n",
      "Epoch 13/15\n",
      "125/125 [==============================] - 1s 7ms/step - loss: 0.1148 - val_loss: 0.1144\n",
      "[ 5000 : 10000 ]\n",
      "Epoch 1/100\n",
      "125/125 [==============================] - 1s 8ms/step - loss: 0.1149 - val_loss: 0.1155\n",
      "Epoch 2/100\n",
      "125/125 [==============================] - 1s 6ms/step - loss: 0.1149 - val_loss: 0.1157\n",
      "Epoch 3/100\n",
      "125/125 [==============================] - 1s 6ms/step - loss: 0.1149 - val_loss: 0.1157\n",
      "Epoch 4/100\n",
      "125/125 [==============================] - 1s 6ms/step - loss: 0.1150 - val_loss: 0.1155\n",
      "Epoch 5/100\n",
      "125/125 [==============================] - 1s 6ms/step - loss: 0.1149 - val_loss: 0.1155\n",
      "Epoch 6/100\n",
      "125/125 [==============================] - 1s 6ms/step - loss: 0.1149 - val_loss: 0.1155\n",
      "Epoch 7/100\n",
      "125/125 [==============================] - 1s 6ms/step - loss: 0.1149 - val_loss: 0.1155\n",
      "Epoch 8/100\n",
      "125/125 [==============================] - 1s 6ms/step - loss: 0.1149 - val_loss: 0.1155\n",
      "Epoch 9/100\n",
      "125/125 [==============================] - 1s 6ms/step - loss: 0.1149 - val_loss: 0.1155\n",
      "Epoch 10/100\n",
      "125/125 [==============================] - 1s 6ms/step - loss: 0.1149 - val_loss: 0.1157\n",
      "Epoch 11/100\n",
      "125/125 [==============================] - 1s 6ms/step - loss: 0.1149 - val_loss: 0.1155\n",
      "Epoch 12/100\n",
      "125/125 [==============================] - 1s 7ms/step - loss: 0.1149 - val_loss: 0.1155\n",
      "Epoch 13/100\n",
      "125/125 [==============================] - 1s 6ms/step - loss: 0.1149 - val_loss: 0.1156\n",
      "Epoch 14/100\n",
      "125/125 [==============================] - 1s 6ms/step - loss: 0.1149 - val_loss: 0.1155\n",
      "Epoch 15/100\n",
      "125/125 [==============================] - 1s 7ms/step - loss: 0.1149 - val_loss: 0.1155\n",
      "Epoch 16/100\n",
      "125/125 [==============================] - 1s 7ms/step - loss: 0.1149 - val_loss: 0.1155\n",
      "[ 10000 : 15000 ]\n",
      "Epoch 1/100\n",
      "125/125 [==============================] - 1s 9ms/step - loss: 0.1146 - val_loss: 0.1150\n",
      "Epoch 2/100\n",
      "125/125 [==============================] - 1s 6ms/step - loss: 0.1145 - val_loss: 0.1150\n",
      "Epoch 3/100\n",
      "125/125 [==============================] - 1s 6ms/step - loss: 0.1145 - val_loss: 0.1151\n",
      "Epoch 4/100\n",
      "125/125 [==============================] - 1s 6ms/step - loss: 0.1145 - val_loss: 0.1150\n",
      "Epoch 5/100\n",
      "125/125 [==============================] - 1s 6ms/step - loss: 0.1146 - val_loss: 0.1151\n",
      "Epoch 6/100\n",
      "125/125 [==============================] - 1s 6ms/step - loss: 0.1145 - val_loss: 0.1152\n",
      "Epoch 7/100\n",
      "125/125 [==============================] - 1s 6ms/step - loss: 0.1145 - val_loss: 0.1151\n",
      "Epoch 8/100\n",
      "125/125 [==============================] - 1s 6ms/step - loss: 0.1146 - val_loss: 0.1152\n",
      "Epoch 9/100\n",
      "125/125 [==============================] - 1s 6ms/step - loss: 0.1146 - val_loss: 0.1150\n",
      "Epoch 10/100\n",
      "125/125 [==============================] - 1s 6ms/step - loss: 0.1145 - val_loss: 0.1151\n",
      "Epoch 11/100\n",
      "125/125 [==============================] - 1s 6ms/step - loss: 0.1145 - val_loss: 0.1150\n",
      "Epoch 12/100\n",
      "125/125 [==============================] - 1s 6ms/step - loss: 0.1145 - val_loss: 0.1150\n",
      "Epoch 13/100\n",
      "125/125 [==============================] - 1s 7ms/step - loss: 0.1146 - val_loss: 0.1150\n",
      "Epoch 14/100\n",
      "125/125 [==============================] - 1s 7ms/step - loss: 0.1145 - val_loss: 0.1149\n",
      "Epoch 15/100\n",
      "125/125 [==============================] - 1s 6ms/step - loss: 0.1145 - val_loss: 0.1150\n",
      "Epoch 16/100\n",
      "125/125 [==============================] - 1s 6ms/step - loss: 0.1145 - val_loss: 0.1150\n",
      "Epoch 17/100\n",
      "125/125 [==============================] - 1s 6ms/step - loss: 0.1145 - val_loss: 0.1150\n",
      "Epoch 18/100\n",
      "125/125 [==============================] - 1s 6ms/step - loss: 0.1145 - val_loss: 0.1150\n",
      "Epoch 19/100\n",
      "125/125 [==============================] - 1s 6ms/step - loss: 0.1145 - val_loss: 0.1150\n",
      "Epoch 20/100\n",
      "125/125 [==============================] - 1s 6ms/step - loss: 0.1145 - val_loss: 0.1151\n",
      "Epoch 21/100\n",
      "125/125 [==============================] - 1s 6ms/step - loss: 0.1145 - val_loss: 0.1150\n",
      "Epoch 22/100\n",
      "125/125 [==============================] - 1s 6ms/step - loss: 0.1146 - val_loss: 0.1150\n",
      "Epoch 23/100\n",
      "125/125 [==============================] - 1s 7ms/step - loss: 0.1145 - val_loss: 0.1151\n",
      "Epoch 24/100\n",
      "125/125 [==============================] - 1s 6ms/step - loss: 0.1145 - val_loss: 0.1151\n",
      "[ 15000 : 20000 ]\n",
      "Epoch 1/100\n",
      "125/125 [==============================] - 1s 8ms/step - loss: 0.1148 - val_loss: 0.1144\n",
      "Epoch 2/100\n",
      "125/125 [==============================] - 1s 7ms/step - loss: 0.1148 - val_loss: 0.1142\n",
      "Epoch 3/100\n",
      "125/125 [==============================] - 1s 7ms/step - loss: 0.1147 - val_loss: 0.1141\n",
      "Epoch 4/100\n",
      "125/125 [==============================] - 1s 7ms/step - loss: 0.1148 - val_loss: 0.1142\n",
      "Epoch 5/100\n",
      "125/125 [==============================] - 1s 6ms/step - loss: 0.1148 - val_loss: 0.1142\n",
      "Epoch 6/100\n",
      "125/125 [==============================] - 1s 6ms/step - loss: 0.1148 - val_loss: 0.1142\n",
      "Epoch 7/100\n",
      "125/125 [==============================] - 1s 6ms/step - loss: 0.1148 - val_loss: 0.1142\n",
      "Epoch 8/100\n",
      "125/125 [==============================] - 1s 6ms/step - loss: 0.1148 - val_loss: 0.1143\n",
      "Epoch 9/100\n",
      "125/125 [==============================] - 1s 6ms/step - loss: 0.1148 - val_loss: 0.1142\n",
      "Epoch 10/100\n",
      "125/125 [==============================] - 1s 7ms/step - loss: 0.1148 - val_loss: 0.1143\n",
      "Epoch 11/100\n",
      "125/125 [==============================] - 1s 7ms/step - loss: 0.1148 - val_loss: 0.1143\n",
      "Epoch 12/100\n",
      "125/125 [==============================] - 1s 6ms/step - loss: 0.1147 - val_loss: 0.1142\n",
      "Epoch 13/100\n",
      "125/125 [==============================] - 1s 6ms/step - loss: 0.1147 - val_loss: 0.1142\n",
      "[ 20000 : 25000 ]\n",
      "Epoch 1/100\n",
      "125/125 [==============================] - 1s 11ms/step - loss: 0.1146 - val_loss: 0.1137\n",
      "Epoch 2/100\n",
      "125/125 [==============================] - 1s 7ms/step - loss: 0.1146 - val_loss: 0.1139\n",
      "Epoch 3/100\n",
      "125/125 [==============================] - 1s 7ms/step - loss: 0.1146 - val_loss: 0.1137\n",
      "Epoch 4/100\n",
      "125/125 [==============================] - 1s 6ms/step - loss: 0.1146 - val_loss: 0.1137\n",
      "Epoch 5/100\n",
      "125/125 [==============================] - 1s 6ms/step - loss: 0.1146 - val_loss: 0.1138\n",
      "Epoch 6/100\n",
      "125/125 [==============================] - 1s 6ms/step - loss: 0.1146 - val_loss: 0.1138\n",
      "Epoch 7/100\n",
      "125/125 [==============================] - 1s 6ms/step - loss: 0.1146 - val_loss: 0.1137\n",
      "Epoch 8/100\n",
      "125/125 [==============================] - 1s 6ms/step - loss: 0.1146 - val_loss: 0.1137\n",
      "Epoch 9/100\n",
      "125/125 [==============================] - 1s 6ms/step - loss: 0.1145 - val_loss: 0.1138\n",
      "Epoch 10/100\n",
      "125/125 [==============================] - 1s 6ms/step - loss: 0.1146 - val_loss: 0.1139\n",
      "Epoch 11/100\n",
      "125/125 [==============================] - 1s 6ms/step - loss: 0.1146 - val_loss: 0.1137\n",
      "[ 25000 : 30000 ]\n",
      "Epoch 1/100\n",
      "125/125 [==============================] - 1s 9ms/step - loss: 0.1155 - val_loss: 0.1145\n",
      "Epoch 2/100\n",
      "125/125 [==============================] - 1s 6ms/step - loss: 0.1156 - val_loss: 0.1144\n",
      "Epoch 3/100\n",
      "125/125 [==============================] - 1s 6ms/step - loss: 0.1156 - val_loss: 0.1146\n",
      "Epoch 4/100\n",
      "125/125 [==============================] - 1s 7ms/step - loss: 0.1155 - val_loss: 0.1145\n",
      "Epoch 5/100\n",
      "125/125 [==============================] - 1s 7ms/step - loss: 0.1155 - val_loss: 0.1145\n",
      "Epoch 6/100\n",
      "125/125 [==============================] - 1s 6ms/step - loss: 0.1155 - val_loss: 0.1145\n",
      "Epoch 7/100\n",
      "125/125 [==============================] - 1s 6ms/step - loss: 0.1155 - val_loss: 0.1144\n",
      "Epoch 8/100\n",
      "125/125 [==============================] - 1s 6ms/step - loss: 0.1156 - val_loss: 0.1144\n",
      "Epoch 9/100\n",
      "125/125 [==============================] - 1s 6ms/step - loss: 0.1155 - val_loss: 0.1145\n",
      "Epoch 10/100\n",
      "125/125 [==============================] - 1s 6ms/step - loss: 0.1155 - val_loss: 0.1145\n",
      "Epoch 11/100\n",
      "125/125 [==============================] - 1s 7ms/step - loss: 0.1155 - val_loss: 0.1144\n",
      "Epoch 12/100\n",
      "125/125 [==============================] - 1s 7ms/step - loss: 0.1155 - val_loss: 0.1145\n",
      "[ 30000 : 35000 ]\n",
      "Epoch 1/100\n",
      "125/125 [==============================] - 1s 8ms/step - loss: 0.1149 - val_loss: 0.1155\n",
      "Epoch 2/100\n",
      "125/125 [==============================] - 1s 6ms/step - loss: 0.1148 - val_loss: 0.1155\n",
      "Epoch 3/100\n",
      "125/125 [==============================] - 1s 6ms/step - loss: 0.1148 - val_loss: 0.1154\n",
      "Epoch 4/100\n",
      "125/125 [==============================] - 1s 6ms/step - loss: 0.1149 - val_loss: 0.1154\n",
      "Epoch 5/100\n",
      "125/125 [==============================] - 1s 7ms/step - loss: 0.1148 - val_loss: 0.1157\n",
      "Epoch 6/100\n",
      "125/125 [==============================] - 1s 7ms/step - loss: 0.1148 - val_loss: 0.1154\n",
      "Epoch 7/100\n",
      "125/125 [==============================] - 1s 6ms/step - loss: 0.1148 - val_loss: 0.1155\n",
      "Epoch 8/100\n",
      "125/125 [==============================] - 1s 7ms/step - loss: 0.1148 - val_loss: 0.1155\n",
      "Epoch 9/100\n",
      "125/125 [==============================] - 1s 6ms/step - loss: 0.1148 - val_loss: 0.1155\n",
      "Epoch 10/100\n",
      "125/125 [==============================] - 1s 6ms/step - loss: 0.1148 - val_loss: 0.1155\n",
      "Epoch 11/100\n",
      "125/125 [==============================] - 1s 6ms/step - loss: 0.1148 - val_loss: 0.1155\n",
      "Epoch 12/100\n",
      "125/125 [==============================] - 1s 6ms/step - loss: 0.1148 - val_loss: 0.1155\n",
      "Epoch 13/100\n",
      "125/125 [==============================] - 1s 6ms/step - loss: 0.1148 - val_loss: 0.1155\n",
      "[ 40000 :]\n",
      "Epoch 1/100\n",
      "101/101 [==============================] - 1s 9ms/step - loss: 0.1144 - val_loss: 0.1155\n",
      "Epoch 2/100\n",
      "101/101 [==============================] - 1s 7ms/step - loss: 0.1145 - val_loss: 0.1155\n",
      "Epoch 3/100\n",
      "101/101 [==============================] - 1s 7ms/step - loss: 0.1145 - val_loss: 0.1156\n",
      "Epoch 4/100\n",
      "101/101 [==============================] - 1s 7ms/step - loss: 0.1144 - val_loss: 0.1155\n",
      "Epoch 5/100\n",
      "101/101 [==============================] - 1s 8ms/step - loss: 0.1144 - val_loss: 0.1155\n",
      "Epoch 6/100\n",
      "101/101 [==============================] - 1s 8ms/step - loss: 0.1145 - val_loss: 0.1155\n",
      "Epoch 7/100\n",
      "101/101 [==============================] - 1s 7ms/step - loss: 0.1145 - val_loss: 0.1157\n",
      "Epoch 8/100\n",
      "101/101 [==============================] - 1s 7ms/step - loss: 0.1145 - val_loss: 0.1155\n",
      "Epoch 9/100\n",
      "101/101 [==============================] - 1s 7ms/step - loss: 0.1145 - val_loss: 0.1155\n",
      "Epoch 10/100\n",
      "101/101 [==============================] - 1s 7ms/step - loss: 0.1145 - val_loss: 0.1155\n",
      "Epoch 11/100\n",
      "101/101 [==============================] - 1s 7ms/step - loss: 0.1144 - val_loss: 0.1155\n",
      "Epoch 12/100\n",
      "101/101 [==============================] - 1s 7ms/step - loss: 0.1144 - val_loss: 0.1157\n",
      "Epoch 13/100\n",
      "101/101 [==============================] - 1s 8ms/step - loss: 0.1145 - val_loss: 0.1155\n"
     ]
    }
   ],
   "source": [
    "#bulk training data\n",
    "\n",
    "history=[]\n",
    "\n",
    "for i in range(len(chunk_range)):\n",
    "    if i==len(chunk_range)-1:\n",
    "        print(\"[\",chunk_range[i],\":]\")\n",
    "        history.append(\n",
    "                autoencoder.fit(\n",
    "                sample_data[chunk_range[i]:],\n",
    "                sample_data[chunk_range[i]:], \n",
    "                epochs=100,\n",
    "                validation_split=0.2,\n",
    "                callbacks=EarlyStopping(patience=5, restore_best_weights=True)))\n",
    "        \n",
    "    elif i>=2:\n",
    "        print(\"[\",chunk_range[i-1],\":\",chunk_range[i],\"]\")\n",
    "        history.append(\n",
    "                autoencoder.fit(\n",
    "                sample_data[chunk_range[i-1]:chunk_range[i]],\n",
    "                sample_data[chunk_range[i-1]:chunk_range[i]], \n",
    "                epochs=100,\n",
    "                validation_split=0.2,\n",
    "                callbacks=EarlyStopping(patience=10, restore_best_weights=True)))\n",
    "    elif i==1:\n",
    "        print(\"[\",chunk_range[i-1],\":\",chunk_range[i],\"]\")\n",
    "        history.append(\n",
    "                autoencoder.fit(\n",
    "                sample_data[chunk_range[i-1]:chunk_range[i]],\n",
    "                sample_data[chunk_range[i-1]:chunk_range[i]], \n",
    "                epochs=15,\n",
    "                validation_split=0.2,\n",
    "                callbacks=EarlyStopping(patience=5, restore_best_weights=True)))"
   ]
  },
  {
   "cell_type": "code",
   "execution_count": 48,
   "id": "53b36502-8fbb-4d89-9568-cc55fdea6b43",
   "metadata": {},
   "outputs": [
    {
     "data": {
      "text/plain": [
       "(4010, 80, 60, 3)"
      ]
     },
     "execution_count": 48,
     "metadata": {},
     "output_type": "execute_result"
    }
   ],
   "source": [
    "sample_data[40000:].shape"
   ]
  },
  {
   "cell_type": "code",
   "execution_count": 49,
   "id": "3c38f2d1-c5c0-4e49-96c5-e86262b46961",
   "metadata": {},
   "outputs": [
    {
     "data": {
      "text/plain": [
       "9"
      ]
     },
     "execution_count": 49,
     "metadata": {},
     "output_type": "execute_result"
    }
   ],
   "source": [
    "len(chunk_range)"
   ]
  },
  {
   "cell_type": "code",
   "execution_count": 50,
   "id": "10b59ef3-f6a5-481d-a345-195d6fe99477",
   "metadata": {},
   "outputs": [
    {
     "data": {
      "text/plain": [
       "40000"
      ]
     },
     "execution_count": 50,
     "metadata": {},
     "output_type": "execute_result"
    }
   ],
   "source": [
    "chunk_range[len(chunk_range)-1]"
   ]
  },
  {
   "cell_type": "code",
   "execution_count": null,
   "id": "aec4156b",
   "metadata": {},
   "outputs": [],
   "source": [
    "# history=autoencoder.fit(sample_data[:5000],\n",
    "#                 sample_data[:5000], \n",
    "#                 epochs=100,\n",
    "#                 validation_split=0.2,\n",
    "#                 callbacks=EarlyStopping(patience=5, restore_best_weights=True))"
   ]
  },
  {
   "cell_type": "code",
   "execution_count": null,
   "id": "1ac2d296-ec3c-4998-bf06-e82f43b24b01",
   "metadata": {},
   "outputs": [],
   "source": []
  },
  {
   "cell_type": "code",
   "execution_count": null,
   "id": "a178d3c6-be1c-4a24-86c4-49607bbda959",
   "metadata": {},
   "outputs": [],
   "source": [
    "# autoencoder.save_weights('checkpoints/checkpoint1')"
   ]
  },
  {
   "cell_type": "code",
   "execution_count": null,
   "id": "25d93dc2-395c-422e-9c3f-4127f05690e4",
   "metadata": {},
   "outputs": [],
   "source": [
    "autoencoder.summary()"
   ]
  },
  {
   "cell_type": "code",
   "execution_count": null,
   "id": "f56b55e2-77ac-4539-b5aa-0038f5d1acc5",
   "metadata": {},
   "outputs": [],
   "source": [
    "# autoencoder.load_weights('checkpoints/checkpoint1')"
   ]
  },
  {
   "cell_type": "code",
   "execution_count": 53,
   "id": "f77a239a",
   "metadata": {},
   "outputs": [],
   "source": [
    "prediction=autoencoder.predict(sample_data[:5000],  verbose=0)\n"
   ]
  },
  {
   "cell_type": "code",
   "execution_count": null,
   "id": "eeea3d19-9d70-439f-9b96-b04f5022759f",
   "metadata": {},
   "outputs": [],
   "source": [
    "(prediction[4]==prediction[100]).sum()"
   ]
  },
  {
   "cell_type": "code",
   "execution_count": null,
   "id": "226da16d-2663-48ef-885f-f9ffa8a518df",
   "metadata": {},
   "outputs": [],
   "source": [
    "prediction[0].shape"
   ]
  },
  {
   "cell_type": "code",
   "execution_count": null,
   "id": "f59a91ba-b860-48f8-b763-d9aacdacfc7b",
   "metadata": {},
   "outputs": [],
   "source": [
    "80*60*3"
   ]
  },
  {
   "cell_type": "code",
   "execution_count": 54,
   "id": "332756f0-1d60-499e-b899-f5e0ea99bce4",
   "metadata": {},
   "outputs": [
    {
     "data": {
      "text/plain": [
       "array([[[0.99551594, 0.9910356 , 0.9907406 ],\n",
       "        [0.99701834, 0.992059  , 0.993318  ],\n",
       "        [0.9947821 , 0.9897516 , 0.9893744 ],\n",
       "        ...,\n",
       "        [0.99726105, 0.9921969 , 0.9931868 ],\n",
       "        [0.99513125, 0.9901886 , 0.9898518 ],\n",
       "        [0.99473965, 0.98931026, 0.99005574]],\n",
       "\n",
       "       [[0.9968215 , 0.99093807, 0.9901285 ],\n",
       "        [0.99732745, 0.        , 0.99117607],\n",
       "        [0.9953457 , 0.9893302 , 0.98861754],\n",
       "        ...,\n",
       "        [0.99731886, 0.        , 0.9911996 ],\n",
       "        [0.9957607 , 0.98978376, 0.9891182 ],\n",
       "        [0.99451566, 0.        , 0.9882594 ]],\n",
       "\n",
       "       [[0.9948678 , 0.9912447 , 0.9912316 ],\n",
       "        [0.9950564 , 0.9903641 , 0.9926591 ],\n",
       "        [0.997326  , 0.9924749 , 0.9922874 ],\n",
       "        ...,\n",
       "        [0.9955454 , 0.99061716, 0.99229765],\n",
       "        [0.99753785, 0.9920471 , 0.9916944 ],\n",
       "        [0.9936302 , 0.9876456 , 0.98748684]],\n",
       "\n",
       "       ...,\n",
       "\n",
       "       [[0.997177  , 0.991356  , 0.9906133 ],\n",
       "        [0.99740136, 0.        , 0.99123716],\n",
       "        [0.9955932 , 0.9896121 , 0.9889524 ],\n",
       "        ...,\n",
       "        [0.9967824 , 0.        , 0.99084985],\n",
       "        [0.9958221 , 0.9897829 , 0.9889834 ],\n",
       "        [0.9950384 , 0.        , 0.9889556 ]],\n",
       "\n",
       "       [[0.9957695 , 0.9915234 , 0.9913511 ],\n",
       "        [0.9957236 , 0.9907267 , 0.992214  ],\n",
       "        [0.9975741 , 0.9920982 , 0.9917541 ],\n",
       "        ...,\n",
       "        [0.99340165, 0.98936427, 0.9934658 ],\n",
       "        [0.99681115, 0.9925792 , 0.992523  ],\n",
       "        [0.993837  , 0.98857415, 0.9899446 ]],\n",
       "\n",
       "       [[0.99735117, 0.99150586, 0.99082977],\n",
       "        [0.9960481 , 0.        , 0.9900854 ],\n",
       "        [0.9969357 , 0.9911125 , 0.9907905 ],\n",
       "        ...,\n",
       "        [0.9956031 , 0.        , 0.9902318 ],\n",
       "        [0.99818313, 0.9924195 , 0.99200416],\n",
       "        [0.9937912 , 0.        , 0.98807657]]], dtype=float32)"
      ]
     },
     "execution_count": 54,
     "metadata": {},
     "output_type": "execute_result"
    }
   ],
   "source": [
    "prediction[0]"
   ]
  },
  {
   "cell_type": "code",
   "execution_count": 55,
   "id": "6598652f",
   "metadata": {},
   "outputs": [
    {
     "name": "stderr",
     "output_type": "stream",
     "text": [
      "Clipping input data to the valid range for imshow with RGB data ([0..1] for floats or [0..255] for integers).\n",
      "Clipping input data to the valid range for imshow with RGB data ([0..1] for floats or [0..255] for integers).\n",
      "Clipping input data to the valid range for imshow with RGB data ([0..1] for floats or [0..255] for integers).\n"
     ]
    },
    {
     "data": {
      "image/png": "[encoded data removed]",
      "text/plain": [
       "<Figure size 400x200 with 2 Axes>"
      ]
     },
     "metadata": {},
     "output_type": "display_data"
    },
    {
     "data": {
      "image/png": "[encoded data removed]",
      "text/plain": [
       "<Figure size 400x200 with 2 Axes>"
      ]
     },
     "metadata": {},
     "output_type": "display_data"
    },
    {
     "data": {
      "image/png": "[encoded data removed]",
      "text/plain": [
       "<Figure size 400x200 with 2 Axes>"
      ]
     },
     "metadata": {},
     "output_type": "display_data"
    }
   ],
   "source": [
    "import matplotlib.pyplot as plt\n",
    "for i in range(3):\n",
    "    fig, (ax1,ax2) = plt.subplots(1,2,figsize=(4,2))\n",
    "    ax1.imshow(sample_data[i])\n",
    "    ax2.imshow(prediction[i])"
   ]
  },
  {
   "cell_type": "code",
   "execution_count": null,
   "id": "17346793",
   "metadata": {},
   "outputs": [],
   "source": []
  },
  {
   "cell_type": "code",
   "execution_count": null,
   "id": "a36568e2",
   "metadata": {},
   "outputs": [],
   "source": []
  },
  {
   "cell_type": "code",
   "execution_count": null,
   "id": "9dc3967a",
   "metadata": {},
   "outputs": [],
   "source": []
  },
  {
   "cell_type": "code",
   "execution_count": null,
   "id": "5f30afec",
   "metadata": {},
   "outputs": [],
   "source": []
  },
  {
   "cell_type": "code",
   "execution_count": null,
   "id": "8d90760d",
   "metadata": {},
   "outputs": [],
   "source": []
  },
  {
   "cell_type": "code",
   "execution_count": null,
   "id": "587faeaf",
   "metadata": {},
   "outputs": [],
   "source": []
  }
 ],
 "metadata": {
  "kernelspec": {
   "display_name": "TensorFlow 2 (Local)",
   "language": "python",
   "name": "local-tf2"
  },
  "language_info": {
   "codemirror_mode": {
    "name": "ipython",
    "version": 3
   },
   "file_extension": ".py",
   "mimetype": "text/x-python",
   "name": "python",
   "nbconvert_exporter": "python",
   "pygments_lexer": "ipython3",
   "version": "3.7.12"
  }
 },
 "nbformat": 4,
 "nbformat_minor": 5
}
