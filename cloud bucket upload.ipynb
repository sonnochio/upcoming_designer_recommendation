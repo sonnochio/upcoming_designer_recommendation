{
 "cells": [
  {
   "cell_type": "code",
   "execution_count": 1,
   "id": "1b6b1c83",
   "metadata": {},
   "outputs": [],
   "source": [
    "from google.cloud import storage"
   ]
  },
  {
   "cell_type": "code",
   "execution_count": 5,
   "id": "2be64b2f",
   "metadata": {},
   "outputs": [],
   "source": [
    "storage_filename = \"sample_images\"\n",
    "local_filename=\"sample_images\"\n",
    "BUCKET_NAME=\"sample_images_recommendation\"\n"
   ]
  },
  {
   "cell_type": "code",
   "execution_count": 7,
   "id": "428031ab",
   "metadata": {
    "scrolled": false
   },
   "outputs": [
    {
     "ename": "IsADirectoryError",
     "evalue": "[Errno 21] Is a directory: 'sample_images'",
     "output_type": "error",
     "traceback": [
      "\u001b[0;31m---------------------------------------------------------------------------\u001b[0m",
      "\u001b[0;31mIsADirectoryError\u001b[0m                         Traceback (most recent call last)",
      "Cell \u001b[0;32mIn[7], line 5\u001b[0m\n\u001b[1;32m      3\u001b[0m bucket \u001b[38;5;241m=\u001b[39m client\u001b[38;5;241m.\u001b[39mbucket(BUCKET_NAME)\n\u001b[1;32m      4\u001b[0m blob \u001b[38;5;241m=\u001b[39m bucket\u001b[38;5;241m.\u001b[39mblob(storage_filename)\n\u001b[0;32m----> 5\u001b[0m \u001b[43mblob\u001b[49m\u001b[38;5;241;43m.\u001b[39;49m\u001b[43mupload_from_filename\u001b[49m\u001b[43m(\u001b[49m\u001b[43mlocal_filename\u001b[49m\u001b[43m)\u001b[49m\n",
      "File \u001b[0;32m~/.pyenv/versions/3.10.6/envs/recommendation/lib/python3.10/site-packages/google/cloud/storage/blob.py:2681\u001b[0m, in \u001b[0;36mBlob.upload_from_filename\u001b[0;34m(self, filename, content_type, num_retries, client, predefined_acl, if_generation_match, if_generation_not_match, if_metageneration_match, if_metageneration_not_match, timeout, checksum, retry)\u001b[0m\n\u001b[1;32m   2573\u001b[0m \u001b[38;5;124;03m\"\"\"Upload this blob's contents from the content of a named file.\u001b[39;00m\n\u001b[1;32m   2574\u001b[0m \n\u001b[1;32m   2575\u001b[0m \u001b[38;5;124;03mThe content type of the upload will be determined in order\u001b[39;00m\n\u001b[0;32m   (...)\u001b[0m\n\u001b[1;32m   2677\u001b[0m \u001b[38;5;124;03m    are respected.\u001b[39;00m\n\u001b[1;32m   2678\u001b[0m \u001b[38;5;124;03m\"\"\"\u001b[39;00m\n\u001b[1;32m   2679\u001b[0m content_type \u001b[38;5;241m=\u001b[39m \u001b[38;5;28mself\u001b[39m\u001b[38;5;241m.\u001b[39m_get_content_type(content_type, filename\u001b[38;5;241m=\u001b[39mfilename)\n\u001b[0;32m-> 2681\u001b[0m \u001b[38;5;28;01mwith\u001b[39;00m \u001b[38;5;28;43mopen\u001b[39;49m\u001b[43m(\u001b[49m\u001b[43mfilename\u001b[49m\u001b[43m,\u001b[49m\u001b[43m \u001b[49m\u001b[38;5;124;43m\"\u001b[39;49m\u001b[38;5;124;43mrb\u001b[39;49m\u001b[38;5;124;43m\"\u001b[39;49m\u001b[43m)\u001b[49m \u001b[38;5;28;01mas\u001b[39;00m file_obj:\n\u001b[1;32m   2682\u001b[0m     total_bytes \u001b[38;5;241m=\u001b[39m os\u001b[38;5;241m.\u001b[39mfstat(file_obj\u001b[38;5;241m.\u001b[39mfileno())\u001b[38;5;241m.\u001b[39mst_size\n\u001b[1;32m   2683\u001b[0m     \u001b[38;5;28mself\u001b[39m\u001b[38;5;241m.\u001b[39mupload_from_file(\n\u001b[1;32m   2684\u001b[0m         file_obj,\n\u001b[1;32m   2685\u001b[0m         content_type\u001b[38;5;241m=\u001b[39mcontent_type,\n\u001b[0;32m   (...)\u001b[0m\n\u001b[1;32m   2696\u001b[0m         retry\u001b[38;5;241m=\u001b[39mretry,\n\u001b[1;32m   2697\u001b[0m     )\n",
      "\u001b[0;31mIsADirectoryError\u001b[0m: [Errno 21] Is a directory: 'sample_images'"
     ]
    }
   ],
   "source": [
    "client = storage.Client.from_service_account_json('key.json')\n",
    "# client = storage.Client()\n",
    "bucket = client.bucket(BUCKET_NAME)\n",
    "blob = bucket.blob(storage_filename)\n",
    "blob.upload_from_filename(local_filename)"
   ]
  },
  {
   "cell_type": "code",
   "execution_count": 4,
   "id": "7b0972ab",
   "metadata": {},
   "outputs": [],
   "source": [
    "BUCKET=\"sample_images_recommendation\""
   ]
  },
  {
   "cell_type": "code",
   "execution_count": 5,
   "id": "9b395e27",
   "metadata": {},
   "outputs": [
    {
     "name": "stdout",
     "output_type": "stream",
     "text": [
      "0            gs://sample_images_recommendation\r\n"
     ]
    }
   ],
   "source": [
    "!gsutil du -s gs://$BUCKET  "
   ]
  },
  {
   "cell_type": "code",
   "execution_count": 8,
   "id": "0a3722af",
   "metadata": {
    "scrolled": false
   },
   "outputs": [
    {
     "name": "stdout",
     "output_type": "stream",
     "text": [
      "gs://sample_images_recommendation/\r\n"
     ]
    }
   ],
   "source": [
    "! gsutil ls"
   ]
  },
  {
   "cell_type": "code",
   "execution_count": 20,
   "id": "4280e24e",
   "metadata": {},
   "outputs": [],
   "source": [
    "SERVICE_ACCOUNT_EMAIL=\"whysonny@recommendation-3.iam.gserviceaccount.com\"\n",
    "REGION=\"eu\"\n",
    "PROJECT=\"1068638111106\""
   ]
  },
  {
   "cell_type": "code",
   "execution_count": 26,
   "id": "4b3435d8",
   "metadata": {},
   "outputs": [
    {
     "name": "stdout",
     "output_type": "stream",
     "text": [
      "CommandException: Incorrect member type for binding owner:whysonny@recommendation-3.iam.gserviceaccount.com:admin\r\n"
     ]
    }
   ],
   "source": [
    "! gsutil iam ch \\\n",
    "    owner:$SERVICE_ACCOUNT_EMAIL:admin \\\n"
   ]
  },
  {
   "cell_type": "code",
   "execution_count": null,
   "id": "e1526d28",
   "metadata": {},
   "outputs": [],
   "source": []
  }
 ],
 "metadata": {
  "kernelspec": {
   "display_name": "Python 3 (ipykernel)",
   "language": "python",
   "name": "python3"
  },
  "language_info": {
   "codemirror_mode": {
    "name": "ipython",
    "version": 3
   },
   "file_extension": ".py",
   "mimetype": "text/x-python",
   "name": "python",
   "nbconvert_exporter": "python",
   "pygments_lexer": "ipython3",
   "version": "3.10.6"
  }
 },
 "nbformat": 4,
 "nbformat_minor": 5
}
