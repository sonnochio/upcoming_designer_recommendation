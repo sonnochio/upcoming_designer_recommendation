{
 "cells": [
  {
   "cell_type": "code",
   "execution_count": 81,
   "id": "c532b2c2",
   "metadata": {},
   "outputs": [],
   "source": [
    "import requests\n",
    "from selenium import webdriver as wbdv\n",
    "import time\n",
    "from bs4 import BeautifulSoup as bs\n",
    "import re\n",
    "import pandas as pd"
   ]
  },
  {
   "cell_type": "markdown",
   "id": "e40bd36c",
   "metadata": {},
   "source": [
    "# Data Extraction "
   ]
  },
  {
   "cell_type": "markdown",
   "id": "b48c50a8",
   "metadata": {},
   "source": [
    "## Extracting all designers"
   ]
  },
  {
   "cell_type": "code",
   "execution_count": 189,
   "id": "356e678f",
   "metadata": {},
   "outputs": [],
   "source": [
    "all_designers_url=\"https://ap0cene.com/pages/ap0cene-designers-a-z\""
   ]
  },
  {
   "cell_type": "code",
   "execution_count": 190,
   "id": "9c8d29d3",
   "metadata": {},
   "outputs": [],
   "source": [
    "all_designers_page=requests.get(all_designers_url)\n",
    "soup=bs(all_designers_page.content, \"html.parser\")"
   ]
  },
  {
   "cell_type": "code",
   "execution_count": 191,
   "id": "21ce602c",
   "metadata": {
    "scrolled": false
   },
   "outputs": [],
   "source": [
    "all_designers_soup=soup.find_all(href=re.compile(\"https:\\/\\/ap0cene.com\\/collections.+\"))[2:]"
   ]
  },
  {
   "cell_type": "code",
   "execution_count": 192,
   "id": "69c61243",
   "metadata": {},
   "outputs": [
    {
     "data": {
      "text/html": [
       "<div>\n",
       "<style scoped>\n",
       "    .dataframe tbody tr th:only-of-type {\n",
       "        vertical-align: middle;\n",
       "    }\n",
       "\n",
       "    .dataframe tbody tr th {\n",
       "        vertical-align: top;\n",
       "    }\n",
       "\n",
       "    .dataframe thead th {\n",
       "        text-align: right;\n",
       "    }\n",
       "</style>\n",
       "<table border=\"1\" class=\"dataframe\">\n",
       "  <thead>\n",
       "    <tr style=\"text-align: right;\">\n",
       "      <th></th>\n",
       "      <th>designer_name</th>\n",
       "      <th>designer_page</th>\n",
       "    </tr>\n",
       "  </thead>\n",
       "  <tbody>\n",
       "    <tr>\n",
       "      <th>0</th>\n",
       "      <td>A Beautiful Orgasm</td>\n",
       "      <td>https://ap0cene.com/collections/a-beautiful-or...</td>\n",
       "    </tr>\n",
       "    <tr>\n",
       "      <th>1</th>\n",
       "      <td>Aephotika</td>\n",
       "      <td>https://ap0cene.com/collections/aephotika</td>\n",
       "    </tr>\n",
       "    <tr>\n",
       "      <th>2</th>\n",
       "      <td>Aiyana Monae</td>\n",
       "      <td>https://ap0cene.com/collections/aiyana-monae</td>\n",
       "    </tr>\n",
       "    <tr>\n",
       "      <th>3</th>\n",
       "      <td>Alexandra Zhukova</td>\n",
       "      <td>https://ap0cene.com/collections/alexandra-zhukova</td>\n",
       "    </tr>\n",
       "    <tr>\n",
       "      <th>4</th>\n",
       "      <td>Alisa Cayoo</td>\n",
       "      <td>https://ap0cene.com/collections/alisa-cayoo</td>\n",
       "    </tr>\n",
       "    <tr>\n",
       "      <th>5</th>\n",
       "      <td>Andagain</td>\n",
       "      <td>https://ap0cene.com/collections/andagain</td>\n",
       "    </tr>\n",
       "    <tr>\n",
       "      <th>6</th>\n",
       "      <td>Antispacetravel</td>\n",
       "      <td>https://ap0cene.com/collections/antispacetravel</td>\n",
       "    </tr>\n",
       "    <tr>\n",
       "      <th>7</th>\n",
       "      <td>Aporeei</td>\n",
       "      <td>https://ap0cene.com/collections/aporeei</td>\n",
       "    </tr>\n",
       "    <tr>\n",
       "      <th>8</th>\n",
       "      <td>Arezou</td>\n",
       "      <td>https://ap0cene.com/collections/arezou</td>\n",
       "    </tr>\n",
       "    <tr>\n",
       "      <th>9</th>\n",
       "      <td>Asterisk</td>\n",
       "      <td>https://ap0cene.com/collections/asterisk</td>\n",
       "    </tr>\n",
       "    <tr>\n",
       "      <th>10</th>\n",
       "      <td></td>\n",
       "      <td>https://ap0cene.com/collections/aporeei</td>\n",
       "    </tr>\n",
       "    <tr>\n",
       "      <th>11</th>\n",
       "      <td>Av Grannan</td>\n",
       "      <td>https://ap0cene.com/collections/av-grannan</td>\n",
       "    </tr>\n",
       "    <tr>\n",
       "      <th>12</th>\n",
       "      <td>Bailey Hikawa</td>\n",
       "      <td>https://ap0cene.com/collections/bailey-hikawa</td>\n",
       "    </tr>\n",
       "    <tr>\n",
       "      <th>13</th>\n",
       "      <td>Bittersweetheart</td>\n",
       "      <td>https://ap0cene.com/collections/bittersweetheart</td>\n",
       "    </tr>\n",
       "    <tr>\n",
       "      <th>14</th>\n",
       "      <td>Bold Studio</td>\n",
       "      <td>https://ap0cene.com/collections/bold-studio</td>\n",
       "    </tr>\n",
       "    <tr>\n",
       "      <th>15</th>\n",
       "      <td>Calyx Clothing</td>\n",
       "      <td>https://ap0cene.com/collections/calyx-clothing</td>\n",
       "    </tr>\n",
       "    <tr>\n",
       "      <th>16</th>\n",
       "      <td>CARAMELA</td>\n",
       "      <td>https://ap0cene.com/collections/caramela</td>\n",
       "    </tr>\n",
       "    <tr>\n",
       "      <th>17</th>\n",
       "      <td>Casper</td>\n",
       "      <td>https://ap0cene.com/collections/casper</td>\n",
       "    </tr>\n",
       "    <tr>\n",
       "      <th>18</th>\n",
       "      <td>Chavarri</td>\n",
       "      <td>https://ap0cene.com/collections/chavarri</td>\n",
       "    </tr>\n",
       "    <tr>\n",
       "      <th>19</th>\n",
       "      <td>Cherry Pit Witch</td>\n",
       "      <td>https://ap0cene.com/collections/cherry-pit-witch</td>\n",
       "    </tr>\n",
       "    <tr>\n",
       "      <th>20</th>\n",
       "      <td>Clara Colette Miramon</td>\n",
       "      <td>https://ap0cene.com/collections/clara-colette-...</td>\n",
       "    </tr>\n",
       "    <tr>\n",
       "      <th>22</th>\n",
       "      <td>Cowboys of habit</td>\n",
       "      <td>https://ap0cene.com/collections/cowboys-of-habit</td>\n",
       "    </tr>\n",
       "    <tr>\n",
       "      <th>23</th>\n",
       "      <td>Crack Couture</td>\n",
       "      <td>https://ap0cene.com/collections/crack-couture</td>\n",
       "    </tr>\n",
       "    <tr>\n",
       "      <th>24</th>\n",
       "      <td>Dirt</td>\n",
       "      <td>https://ap0cene.com/collections/dirt</td>\n",
       "    </tr>\n",
       "    <tr>\n",
       "      <th>25</th>\n",
       "      <td>Disco Dime</td>\n",
       "      <td>https://ap0cene.com/collections/disco-dime</td>\n",
       "    </tr>\n",
       "  </tbody>\n",
       "</table>\n",
       "</div>"
      ],
      "text/plain": [
       "            designer_name                                      designer_page\n",
       "0      A Beautiful Orgasm  https://ap0cene.com/collections/a-beautiful-or...\n",
       "1               Aephotika          https://ap0cene.com/collections/aephotika\n",
       "2            Aiyana Monae       https://ap0cene.com/collections/aiyana-monae\n",
       "3       Alexandra Zhukova  https://ap0cene.com/collections/alexandra-zhukova\n",
       "4             Alisa Cayoo        https://ap0cene.com/collections/alisa-cayoo\n",
       "5                Andagain           https://ap0cene.com/collections/andagain\n",
       "6         Antispacetravel    https://ap0cene.com/collections/antispacetravel\n",
       "7                 Aporeei            https://ap0cene.com/collections/aporeei\n",
       "8                  Arezou             https://ap0cene.com/collections/arezou\n",
       "9                Asterisk           https://ap0cene.com/collections/asterisk\n",
       "10                                   https://ap0cene.com/collections/aporeei\n",
       "11             Av Grannan         https://ap0cene.com/collections/av-grannan\n",
       "12          Bailey Hikawa      https://ap0cene.com/collections/bailey-hikawa\n",
       "13       Bittersweetheart   https://ap0cene.com/collections/bittersweetheart\n",
       "14            Bold Studio        https://ap0cene.com/collections/bold-studio\n",
       "15         Calyx Clothing     https://ap0cene.com/collections/calyx-clothing\n",
       "16               CARAMELA           https://ap0cene.com/collections/caramela\n",
       "17                 Casper             https://ap0cene.com/collections/casper\n",
       "18               Chavarri           https://ap0cene.com/collections/chavarri\n",
       "19       Cherry Pit Witch   https://ap0cene.com/collections/cherry-pit-witch\n",
       "20  Clara Colette Miramon  https://ap0cene.com/collections/clara-colette-...\n",
       "22       Cowboys of habit   https://ap0cene.com/collections/cowboys-of-habit\n",
       "23          Crack Couture      https://ap0cene.com/collections/crack-couture\n",
       "24                   Dirt               https://ap0cene.com/collections/dirt\n",
       "25             Disco Dime         https://ap0cene.com/collections/disco-dime"
      ]
     },
     "execution_count": 192,
     "metadata": {},
     "output_type": "execute_result"
    }
   ],
   "source": [
    "\n",
    "df=pd.DataFrame()\n",
    "designer_names=[]\n",
    "designer_links=[]\n",
    "\n",
    "\n",
    "for i,node in enumerate(all_designers_soup):\n",
    "    designer_names.append(node.text)\n",
    "    designer_links.append(node[\"href\"])\n",
    "    \n",
    "df['designer_name']=designer_names\n",
    "df['designer_page']=designer_links\n",
    "\n",
    "#dropping invalide page\n",
    "df.drop(21,inplace=True)\n",
    "\n",
    "df.head(25)"
   ]
  },
  {
   "cell_type": "code",
   "execution_count": 200,
   "id": "c2e3bb8d",
   "metadata": {},
   "outputs": [
    {
     "data": {
      "text/plain": [
       "designer_name    0\n",
       "designer_page    0\n",
       "dtype: int64"
      ]
     },
     "execution_count": 200,
     "metadata": {},
     "output_type": "execute_result"
    }
   ],
   "source": [
    "#finding missing designer info\n",
    "\n",
    "(df=='').sum()"
   ]
  },
  {
   "cell_type": "code",
   "execution_count": 201,
   "id": "33c6a6f6",
   "metadata": {
    "scrolled": true
   },
   "outputs": [],
   "source": [
    "designers_with_name_missing=df[df['designer_name']=='']"
   ]
  },
  {
   "cell_type": "code",
   "execution_count": 202,
   "id": "69189ca5",
   "metadata": {},
   "outputs": [
    {
     "data": {
      "text/html": [
       "<div>\n",
       "<style scoped>\n",
       "    .dataframe tbody tr th:only-of-type {\n",
       "        vertical-align: middle;\n",
       "    }\n",
       "\n",
       "    .dataframe tbody tr th {\n",
       "        vertical-align: top;\n",
       "    }\n",
       "\n",
       "    .dataframe thead th {\n",
       "        text-align: right;\n",
       "    }\n",
       "</style>\n",
       "<table border=\"1\" class=\"dataframe\">\n",
       "  <thead>\n",
       "    <tr style=\"text-align: right;\">\n",
       "      <th></th>\n",
       "      <th>designer_name</th>\n",
       "      <th>designer_page</th>\n",
       "    </tr>\n",
       "  </thead>\n",
       "  <tbody>\n",
       "  </tbody>\n",
       "</table>\n",
       "</div>"
      ],
      "text/plain": [
       "Empty DataFrame\n",
       "Columns: [designer_name, designer_page]\n",
       "Index: []"
      ]
     },
     "execution_count": 202,
     "metadata": {},
     "output_type": "execute_result"
    }
   ],
   "source": [
    "designers_with_name_missing"
   ]
  },
  {
   "cell_type": "code",
   "execution_count": 203,
   "id": "ca565d04",
   "metadata": {},
   "outputs": [
    {
     "data": {
      "text/plain": [
       "'A Beautiful Orgasm'"
      ]
     },
     "execution_count": 203,
     "metadata": {},
     "output_type": "execute_result"
    }
   ],
   "source": [
    "df.loc[0][\"designer_name\"]"
   ]
  },
  {
   "cell_type": "code",
   "execution_count": 197,
   "id": "263506d3",
   "metadata": {},
   "outputs": [],
   "source": [
    "#extract designer name from their personal page\n",
    "\n",
    "def extract_designer_name(ind):\n",
    "    url=df.loc[ind][\"designer_page\"]\n",
    "    \n",
    "    r=requests.get(url)\n",
    "    soup=bs(r.content, \"html.parser\")\n",
    "    designer_name=soup.find(\"h1\", class_=\"font-heading text-lg\").text\n",
    "    \n",
    "    return designer_name\n",
    "    "
   ]
  },
  {
   "cell_type": "code",
   "execution_count": 198,
   "id": "0bacba10",
   "metadata": {},
   "outputs": [],
   "source": [
    "#imputing missing names\n",
    "\n",
    "for ind in designers_with_name_missing.index:\n",
    "    try :\n",
    "        df.loc[ind][\"designer_name\"]=extract_designer_name(ind)\n",
    "    except:\n",
    "        print(ind,\"problem\")"
   ]
  },
  {
   "cell_type": "code",
   "execution_count": 204,
   "id": "2cde4ebb",
   "metadata": {},
   "outputs": [
    {
     "data": {
      "text/plain": [
       "Int64Index([], dtype='int64')"
      ]
     },
     "execution_count": 204,
     "metadata": {},
     "output_type": "execute_result"
    }
   ],
   "source": [
    "designers_with_name_missing.index"
   ]
  },
  {
   "cell_type": "code",
   "execution_count": 205,
   "id": "97040e4e",
   "metadata": {},
   "outputs": [
    {
     "data": {
      "text/plain": [
       "designer_name    0\n",
       "designer_page    0\n",
       "dtype: int64"
      ]
     },
     "execution_count": 205,
     "metadata": {},
     "output_type": "execute_result"
    }
   ],
   "source": [
    "#test again\n",
    "(df=='').sum()"
   ]
  },
  {
   "cell_type": "code",
   "execution_count": 218,
   "id": "90423461",
   "metadata": {},
   "outputs": [],
   "source": [
    "#extracting designer description from their personal page\n",
    "def extract_designer_description(url):\n",
    "    r=requests.get(url)\n",
    "    soup=bs(r.content, \"html.parser\")\n",
    "    try :\n",
    "        description=soup.find(\"div\", class_=\"rte mt-4\").text\n",
    "        return description\n",
    "    except:\n",
    "        return \"A designer.\""
   ]
  },
  {
   "cell_type": "code",
   "execution_count": 219,
   "id": "1773b45d",
   "metadata": {},
   "outputs": [],
   "source": [
    "df[\"description\"]=df[\"designer_page\"].apply(extract_designer_description)"
   ]
  },
  {
   "cell_type": "code",
   "execution_count": 220,
   "id": "b32820b5",
   "metadata": {},
   "outputs": [
    {
     "data": {
      "text/html": [
       "<div>\n",
       "<style scoped>\n",
       "    .dataframe tbody tr th:only-of-type {\n",
       "        vertical-align: middle;\n",
       "    }\n",
       "\n",
       "    .dataframe tbody tr th {\n",
       "        vertical-align: top;\n",
       "    }\n",
       "\n",
       "    .dataframe thead th {\n",
       "        text-align: right;\n",
       "    }\n",
       "</style>\n",
       "<table border=\"1\" class=\"dataframe\">\n",
       "  <thead>\n",
       "    <tr style=\"text-align: right;\">\n",
       "      <th></th>\n",
       "      <th>designer_name</th>\n",
       "      <th>designer_page</th>\n",
       "      <th>description</th>\n",
       "    </tr>\n",
       "  </thead>\n",
       "  <tbody>\n",
       "    <tr>\n",
       "      <th>45</th>\n",
       "      <td>Jae Kim</td>\n",
       "      <td>https://ap0cene.com/collections/jae-kim</td>\n",
       "      <td>A designer.</td>\n",
       "    </tr>\n",
       "    <tr>\n",
       "      <th>52</th>\n",
       "      <td>Kerne.Milk</td>\n",
       "      <td>https://ap0cene.com/collections/vendors?q=Kern...</td>\n",
       "      <td>A designer.</td>\n",
       "    </tr>\n",
       "    <tr>\n",
       "      <th>58</th>\n",
       "      <td>Maran</td>\n",
       "      <td>https://ap0cene.com/collections/maran</td>\n",
       "      <td>A designer.</td>\n",
       "    </tr>\n",
       "    <tr>\n",
       "      <th>85</th>\n",
       "      <td>Shulian</td>\n",
       "      <td>https://ap0cene.com/collections/vendors?q=shulian</td>\n",
       "      <td>A designer.</td>\n",
       "    </tr>\n",
       "    <tr>\n",
       "      <th>92</th>\n",
       "      <td>Spirit Guide 9</td>\n",
       "      <td>https://ap0cene.com/collections/spirit-guide-9</td>\n",
       "      <td>A designer.</td>\n",
       "    </tr>\n",
       "    <tr>\n",
       "      <th>93</th>\n",
       "      <td>Stomachofyourdeadsoulmate</td>\n",
       "      <td>https://ap0cene.com/collections/stomachofyourd...</td>\n",
       "      <td>A designer.</td>\n",
       "    </tr>\n",
       "  </tbody>\n",
       "</table>\n",
       "</div>"
      ],
      "text/plain": [
       "                designer_name  \\\n",
       "45                    Jae Kim   \n",
       "52                 Kerne.Milk   \n",
       "58                      Maran   \n",
       "85                    Shulian   \n",
       "92             Spirit Guide 9   \n",
       "93  Stomachofyourdeadsoulmate   \n",
       "\n",
       "                                        designer_page  description  \n",
       "45            https://ap0cene.com/collections/jae-kim  A designer.  \n",
       "52  https://ap0cene.com/collections/vendors?q=Kern...  A designer.  \n",
       "58              https://ap0cene.com/collections/maran  A designer.  \n",
       "85  https://ap0cene.com/collections/vendors?q=shulian  A designer.  \n",
       "92     https://ap0cene.com/collections/spirit-guide-9  A designer.  \n",
       "93  https://ap0cene.com/collections/stomachofyourd...  A designer.  "
      ]
     },
     "execution_count": 220,
     "metadata": {},
     "output_type": "execute_result"
    }
   ],
   "source": [
    "##ffs where are the probelms\n",
    "##ok upon inspection the probelm was some of these designers have no description, \n",
    "# should i give them one? \n",
    "#absolutely not, because they can find more more info on their product description \n",
    "#thank you!\n",
    "\n",
    "\n",
    "df[(df[\"description\"]==\"A designer.\")]"
   ]
  },
  {
   "cell_type": "code",
   "execution_count": 230,
   "id": "ae6166af",
   "metadata": {},
   "outputs": [],
   "source": [
    "df['description']=df['description'].apply(lambda x: x.replace('\\n',''))\n",
    "df_designer=df"
   ]
  },
  {
   "cell_type": "code",
   "execution_count": 232,
   "id": "a5d201c7",
   "metadata": {},
   "outputs": [
    {
     "data": {
      "text/html": [
       "<div>\n",
       "<style scoped>\n",
       "    .dataframe tbody tr th:only-of-type {\n",
       "        vertical-align: middle;\n",
       "    }\n",
       "\n",
       "    .dataframe tbody tr th {\n",
       "        vertical-align: top;\n",
       "    }\n",
       "\n",
       "    .dataframe thead th {\n",
       "        text-align: right;\n",
       "    }\n",
       "</style>\n",
       "<table border=\"1\" class=\"dataframe\">\n",
       "  <thead>\n",
       "    <tr style=\"text-align: right;\">\n",
       "      <th></th>\n",
       "      <th>designer_name</th>\n",
       "      <th>designer_page</th>\n",
       "      <th>description</th>\n",
       "    </tr>\n",
       "  </thead>\n",
       "  <tbody>\n",
       "    <tr>\n",
       "      <th>0</th>\n",
       "      <td>A Beautiful Orgasm</td>\n",
       "      <td>https://ap0cene.com/collections/a-beautiful-or...</td>\n",
       "      <td>Lucky Truong is a self-taught designer based i...</td>\n",
       "    </tr>\n",
       "    <tr>\n",
       "      <th>1</th>\n",
       "      <td>Aephotika</td>\n",
       "      <td>https://ap0cene.com/collections/aephotika</td>\n",
       "      <td>As a designer, Katya views fashion as a form o...</td>\n",
       "    </tr>\n",
       "  </tbody>\n",
       "</table>\n",
       "</div>"
      ],
      "text/plain": [
       "        designer_name                                      designer_page  \\\n",
       "0  A Beautiful Orgasm  https://ap0cene.com/collections/a-beautiful-or...   \n",
       "1           Aephotika          https://ap0cene.com/collections/aephotika   \n",
       "\n",
       "                                         description  \n",
       "0  Lucky Truong is a self-taught designer based i...  \n",
       "1  As a designer, Katya views fashion as a form o...  "
      ]
     },
     "execution_count": 232,
     "metadata": {},
     "output_type": "execute_result"
    }
   ],
   "source": [
    "df_designer.head(2)"
   ]
  },
  {
   "cell_type": "markdown",
   "id": "c54ccd76",
   "metadata": {},
   "source": [
    "# Product Extraction"
   ]
  },
  {
   "cell_type": "code",
   "execution_count": 2,
   "id": "96c778f2",
   "metadata": {},
   "outputs": [],
   "source": [
    "url='https://ap0cene.com/collections/yue-qing-wei-1'"
   ]
  },
  {
   "cell_type": "code",
   "execution_count": 235,
   "id": "836bf9dd",
   "metadata": {},
   "outputs": [],
   "source": [
    "#scrap the main page of ap0cene and return designer items\n",
    "\n",
    "def designer_page_scrap(url):\n",
    "    r=requests.get(url)\n",
    "    soup=bs(r.content, \"html.parser\")\n",
    "    names=[]\n",
    "    items=[]\n",
    "    for i in soup.find_all(\"img\", class_=\"responsive-image block absolute top-0 left-0 w-full h-full lazyload transition-opacity duration-200 ease-in-out w-full max-w-full h-auto\" ):\n",
    "        names.append(i['alt'])\n",
    "        items.append('-'.join(i['alt'].lower().split()))\n",
    "        \n",
    "    return names,items\n",
    "        "
   ]
  },
  {
   "cell_type": "code",
   "execution_count": 251,
   "id": "4bf575cd",
   "metadata": {},
   "outputs": [],
   "source": [
    "scrapped=df_designer['designer_page'].apply(designer_page_scrap)"
   ]
  },
  {
   "cell_type": "code",
   "execution_count": 261,
   "id": "8804d8b1",
   "metadata": {},
   "outputs": [
    {
     "data": {
      "text/plain": [
       "[0      [Infinity Pants, Spider Top, Cool Girl Denim, ...\n",
       " 1      [Realm Beyond, Calcified Heart Necklace, Fresh...\n",
       " 2      [Bucket Hat, Bonnet, Mosaic Crochet Halter, Be...\n",
       " 3      [Machine Knitted Grunge Top, Hairy Pants, Wrap...\n",
       " 4      [Transparent Piercing Necklace, Nice Girl Knit...\n",
       "                              ...                        \n",
       " 109    [Crater Dress, Yo+ Bag, Flood Top, Pollution C...\n",
       " 110    [Artemis Wool Hat, Undine Jester Headpiece, Na...\n",
       " 111    [Cut Out Lace Sleeve, Chestnut Cut Out Corset ...\n",
       " 112    [Blob Chrome Nails, Organic Unknown, Hybrid, C...\n",
       " 113    [Angelic Devil Jersey Top, Teddy Boots Tan, Fl...\n",
       " Name: designer_page, Length: 113, dtype: object,\n",
       " 0      [infinity-pants, spider-top, cool-girl-denim, ...\n",
       " 1      [realm-beyond, calcified-heart-necklace, fresh...\n",
       " 2      [bucket-hat, bonnet, mosaic-crochet-halter, be...\n",
       " 3      [machine-knitted-grunge-top, hairy-pants, wrap...\n",
       " 4      [transparent-piercing-necklace, nice-girl-knit...\n",
       "                              ...                        \n",
       " 109    [crater-dress, yo+-bag, flood-top, pollution-c...\n",
       " 110    [artemis-wool-hat, undine-jester-headpiece, na...\n",
       " 111    [cut-out-lace-sleeve, chestnut-cut-out-corset-...\n",
       " 112    [blob-chrome-nails, organic-unknown, hybrid, c...\n",
       " 113    [angelic-devil-jersey-top, teddy-boots-tan, fl...\n",
       " Name: designer_page, Length: 113, dtype: object]"
      ]
     },
     "execution_count": 261,
     "metadata": {},
     "output_type": "execute_result"
    }
   ],
   "source": [
    "[scrapped.apply(lambda x:x[0]),scrapped.apply(lambda x:x[1])]"
   ]
  },
  {
   "cell_type": "code",
   "execution_count": 269,
   "id": "5b922fca",
   "metadata": {},
   "outputs": [],
   "source": [
    "df_product=pd.DataFrame()"
   ]
  },
  {
   "cell_type": "code",
   "execution_count": 273,
   "id": "a9c0821d",
   "metadata": {},
   "outputs": [],
   "source": [
    "df_product=pd.DataFrame(data={'names':scrapped.apply(lambda x:x[0]),'items':scrapped.apply(lambda x:x[1])})"
   ]
  },
  {
   "cell_type": "code",
   "execution_count": 274,
   "id": "23986a63",
   "metadata": {},
   "outputs": [
    {
     "data": {
      "text/html": [
       "<div>\n",
       "<style scoped>\n",
       "    .dataframe tbody tr th:only-of-type {\n",
       "        vertical-align: middle;\n",
       "    }\n",
       "\n",
       "    .dataframe tbody tr th {\n",
       "        vertical-align: top;\n",
       "    }\n",
       "\n",
       "    .dataframe thead th {\n",
       "        text-align: right;\n",
       "    }\n",
       "</style>\n",
       "<table border=\"1\" class=\"dataframe\">\n",
       "  <thead>\n",
       "    <tr style=\"text-align: right;\">\n",
       "      <th></th>\n",
       "      <th>names</th>\n",
       "      <th>items</th>\n",
       "    </tr>\n",
       "  </thead>\n",
       "  <tbody>\n",
       "    <tr>\n",
       "      <th>0</th>\n",
       "      <td>[Infinity Pants, Spider Top, Cool Girl Denim, ...</td>\n",
       "      <td>[infinity-pants, spider-top, cool-girl-denim, ...</td>\n",
       "    </tr>\n",
       "    <tr>\n",
       "      <th>1</th>\n",
       "      <td>[Realm Beyond, Calcified Heart Necklace, Fresh...</td>\n",
       "      <td>[realm-beyond, calcified-heart-necklace, fresh...</td>\n",
       "    </tr>\n",
       "    <tr>\n",
       "      <th>2</th>\n",
       "      <td>[Bucket Hat, Bonnet, Mosaic Crochet Halter, Be...</td>\n",
       "      <td>[bucket-hat, bonnet, mosaic-crochet-halter, be...</td>\n",
       "    </tr>\n",
       "    <tr>\n",
       "      <th>3</th>\n",
       "      <td>[Machine Knitted Grunge Top, Hairy Pants, Wrap...</td>\n",
       "      <td>[machine-knitted-grunge-top, hairy-pants, wrap...</td>\n",
       "    </tr>\n",
       "    <tr>\n",
       "      <th>4</th>\n",
       "      <td>[Transparent Piercing Necklace, Nice Girl Knit...</td>\n",
       "      <td>[transparent-piercing-necklace, nice-girl-knit...</td>\n",
       "    </tr>\n",
       "    <tr>\n",
       "      <th>...</th>\n",
       "      <td>...</td>\n",
       "      <td>...</td>\n",
       "    </tr>\n",
       "    <tr>\n",
       "      <th>109</th>\n",
       "      <td>[Crater Dress, Yo+ Bag, Flood Top, Pollution C...</td>\n",
       "      <td>[crater-dress, yo+-bag, flood-top, pollution-c...</td>\n",
       "    </tr>\n",
       "    <tr>\n",
       "      <th>110</th>\n",
       "      <td>[Artemis Wool Hat, Undine Jester Headpiece, Na...</td>\n",
       "      <td>[artemis-wool-hat, undine-jester-headpiece, na...</td>\n",
       "    </tr>\n",
       "    <tr>\n",
       "      <th>111</th>\n",
       "      <td>[Cut Out Lace Sleeve, Chestnut Cut Out Corset ...</td>\n",
       "      <td>[cut-out-lace-sleeve, chestnut-cut-out-corset-...</td>\n",
       "    </tr>\n",
       "    <tr>\n",
       "      <th>112</th>\n",
       "      <td>[Blob Chrome Nails, Organic Unknown, Hybrid, C...</td>\n",
       "      <td>[blob-chrome-nails, organic-unknown, hybrid, c...</td>\n",
       "    </tr>\n",
       "    <tr>\n",
       "      <th>113</th>\n",
       "      <td>[Angelic Devil Jersey Top, Teddy Boots Tan, Fl...</td>\n",
       "      <td>[angelic-devil-jersey-top, teddy-boots-tan, fl...</td>\n",
       "    </tr>\n",
       "  </tbody>\n",
       "</table>\n",
       "<p>113 rows × 2 columns</p>\n",
       "</div>"
      ],
      "text/plain": [
       "                                                 names  \\\n",
       "0    [Infinity Pants, Spider Top, Cool Girl Denim, ...   \n",
       "1    [Realm Beyond, Calcified Heart Necklace, Fresh...   \n",
       "2    [Bucket Hat, Bonnet, Mosaic Crochet Halter, Be...   \n",
       "3    [Machine Knitted Grunge Top, Hairy Pants, Wrap...   \n",
       "4    [Transparent Piercing Necklace, Nice Girl Knit...   \n",
       "..                                                 ...   \n",
       "109  [Crater Dress, Yo+ Bag, Flood Top, Pollution C...   \n",
       "110  [Artemis Wool Hat, Undine Jester Headpiece, Na...   \n",
       "111  [Cut Out Lace Sleeve, Chestnut Cut Out Corset ...   \n",
       "112  [Blob Chrome Nails, Organic Unknown, Hybrid, C...   \n",
       "113  [Angelic Devil Jersey Top, Teddy Boots Tan, Fl...   \n",
       "\n",
       "                                                 items  \n",
       "0    [infinity-pants, spider-top, cool-girl-denim, ...  \n",
       "1    [realm-beyond, calcified-heart-necklace, fresh...  \n",
       "2    [bucket-hat, bonnet, mosaic-crochet-halter, be...  \n",
       "3    [machine-knitted-grunge-top, hairy-pants, wrap...  \n",
       "4    [transparent-piercing-necklace, nice-girl-knit...  \n",
       "..                                                 ...  \n",
       "109  [crater-dress, yo+-bag, flood-top, pollution-c...  \n",
       "110  [artemis-wool-hat, undine-jester-headpiece, na...  \n",
       "111  [cut-out-lace-sleeve, chestnut-cut-out-corset-...  \n",
       "112  [blob-chrome-nails, organic-unknown, hybrid, c...  \n",
       "113  [angelic-devil-jersey-top, teddy-boots-tan, fl...  \n",
       "\n",
       "[113 rows x 2 columns]"
      ]
     },
     "execution_count": 274,
     "metadata": {},
     "output_type": "execute_result"
    }
   ],
   "source": [
    "df_product"
   ]
  },
  {
   "cell_type": "code",
   "execution_count": 240,
   "id": "692915b9",
   "metadata": {
    "scrolled": false
   },
   "outputs": [
    {
     "data": {
      "text/plain": [
       "(['Infinity Pants', 'Spider Top', 'Cool Girl Denim', 'Vermicelli Top'],\n",
       " ['infinity-pants', 'spider-top', 'cool-girl-denim', 'vermicelli-top'])"
      ]
     },
     "execution_count": 240,
     "metadata": {},
     "output_type": "execute_result"
    }
   ],
   "source": [
    "df_product['names']\n",
    "df"
   ]
  },
  {
   "cell_type": "code",
   "execution_count": 241,
   "id": "501f4b29",
   "metadata": {},
   "outputs": [
    {
     "data": {
      "text/plain": [
       "'https://ap0cene.com/collections/a-beautiful-orgasm'"
      ]
     },
     "execution_count": 241,
     "metadata": {},
     "output_type": "execute_result"
    }
   ],
   "source": [
    "df_designer['designer_page'][0]"
   ]
  },
  {
   "cell_type": "code",
   "execution_count": 4,
   "id": "e08deb0b",
   "metadata": {},
   "outputs": [],
   "source": [
    "names=designer_page_scrap(url)[0]"
   ]
  },
  {
   "cell_type": "code",
   "execution_count": 5,
   "id": "9b92110d",
   "metadata": {},
   "outputs": [],
   "source": [
    "items=designer_page_scrap(url)[1]"
   ]
  },
  {
   "cell_type": "code",
   "execution_count": 6,
   "id": "79d80959",
   "metadata": {
    "scrolled": true
   },
   "outputs": [
    {
     "data": {
      "text/plain": [
       "['Cut Out Lace Sleeve',\n",
       " 'Chestnut Cut Out Corset Top',\n",
       " 'Ocean Wave Cut Out Mini Dress',\n",
       " 'Cut Out Lace Tights',\n",
       " 'Violet Knit Dress']"
      ]
     },
     "execution_count": 6,
     "metadata": {},
     "output_type": "execute_result"
    }
   ],
   "source": [
    "names"
   ]
  },
  {
   "cell_type": "code",
   "execution_count": 7,
   "id": "a86c554b",
   "metadata": {
    "scrolled": true
   },
   "outputs": [
    {
     "data": {
      "text/plain": [
       "['cut-out-lace-sleeve',\n",
       " 'chestnut-cut-out-corset-top',\n",
       " 'ocean-wave-cut-out-mini-dress',\n",
       " 'cut-out-lace-tights',\n",
       " 'violet-knit-dress']"
      ]
     },
     "execution_count": 7,
     "metadata": {},
     "output_type": "execute_result"
    }
   ],
   "source": [
    "items"
   ]
  },
  {
   "cell_type": "code",
   "execution_count": 8,
   "id": "0a82b96f",
   "metadata": {},
   "outputs": [],
   "source": [
    "#scrapping the website using selenium webdriver \n",
    "\n",
    "def scrap_image(items,names):\n",
    "\n",
    "    images=[]\n",
    "    for x,item in enumerate(items):\n",
    "        url=f'https://ap0cene.com/collections/yue-qing-wei-1/products/{item}'\n",
    "\n",
    "        webdriver = wbdv.Chrome()\n",
    "        webdriver.get(url)\n",
    "        time.sleep(2)\n",
    "\n",
    "        webdriver.execute_script(\"window.scrollTo(0, document.body.scrollHeight);\")\n",
    "        time.sleep(5)\n",
    "        html = bs(webdriver.page_source,'html.parser')\n",
    "\n",
    "        uls = html.find_all('img',alt=f'{names[x]}')\n",
    "        for i in uls:\n",
    "            try: \n",
    "                images.append(f'http:{i[\"src\"]}')\n",
    "            except:\n",
    "                pass \n",
    "    return images"
   ]
  },
  {
   "cell_type": "code",
   "execution_count": 9,
   "id": "94f08951",
   "metadata": {},
   "outputs": [],
   "source": [
    "images=scrap_image(items,names)"
   ]
  },
  {
   "cell_type": "code",
   "execution_count": 10,
   "id": "91573c25",
   "metadata": {},
   "outputs": [
    {
     "data": {
      "text/plain": [
       "['http://cdn.shopify.com/s/files/1/0542/1803/1277/products/kJ7OcwB19I_2048x2048.jpg?v=1648057231',\n",
       " 'http://cdn.shopify.com/s/files/1/0542/1803/1277/products/XChyWB7wYF_2048x2048.jpg?v=1648057231',\n",
       " 'http://cdn.shopify.com/s/files/1/0542/1803/1277/products/yiFg2oXMmk_2048x2048.jpg?v=1648057231',\n",
       " 'http://cdn.shopify.com/s/files/1/0542/1803/1277/products/bEGnAsQmmA_2048x2048.jpg?v=1647045765',\n",
       " 'http://cdn.shopify.com/s/files/1/0542/1803/1277/products/3NaMNkriya_2048x2048.jpg?v=1647045765',\n",
       " 'http://cdn.shopify.com/s/files/1/0542/1803/1277/products/uFYtv1ZWmZ_2048x2048.jpg?v=1648065987',\n",
       " 'http://cdn.shopify.com/s/files/1/0542/1803/1277/products/flVuTOBq2r_2048x2048.jpg?v=1648065969',\n",
       " 'http://cdn.shopify.com/s/files/1/0542/1803/1277/products/mgKU3s3ok5_2048x2048.jpg?v=1648065969',\n",
       " 'http://cdn.shopify.com/s/files/1/0542/1803/1277/products/e7Z83YVjZP_2048x2048.jpg?v=1648065969',\n",
       " 'http://cdn.shopify.com/s/files/1/0542/1803/1277/products/xeinVZckST_2048x2048.jpg?v=1648065969',\n",
       " 'http://cdn.shopify.com/s/files/1/0542/1803/1277/products/KzA109anWo_2048x2048.jpg?v=1647045887',\n",
       " 'http://cdn.shopify.com/s/files/1/0542/1803/1277/products/yex6chy0eM_2048x2048.jpg?v=1647045887',\n",
       " 'http://cdn.shopify.com/s/files/1/0542/1803/1277/products/BWihhxe1YE_2048x2048.jpg?v=1647045887',\n",
       " 'http://cdn.shopify.com/s/files/1/0542/1803/1277/products/SNit4TdlGv_2048x2048.jpg?v=1647045887',\n",
       " 'http://cdn.shopify.com/s/files/1/0542/1803/1277/products/SA2RFZD3cD_2048x2048.jpg?v=1647045887',\n",
       " 'http://cdn.shopify.com/s/files/1/0542/1803/1277/products/EWKoRSsgx0_2048x2048.jpg?v=1647045719',\n",
       " 'http://cdn.shopify.com/s/files/1/0542/1803/1277/products/r3Kx7q6zPA_2048x2048.jpg?v=1647045719',\n",
       " 'http://cdn.shopify.com/s/files/1/0542/1803/1277/products/KrovWpT32v_2048x2048.jpg?v=1647044578',\n",
       " 'http://cdn.shopify.com/s/files/1/0542/1803/1277/products/mfhIrc6fmT_2048x2048.jpg?v=1647044578',\n",
       " 'http://cdn.shopify.com/s/files/1/0542/1803/1277/products/5U6KUORIRS_2048x2048.jpg?v=1647044578']"
      ]
     },
     "execution_count": 10,
     "metadata": {},
     "output_type": "execute_result"
    }
   ],
   "source": [
    "images"
   ]
  },
  {
   "cell_type": "code",
   "execution_count": 11,
   "id": "7fabe10f",
   "metadata": {},
   "outputs": [],
   "source": [
    "#save the images locally from the url\n",
    "\n",
    "def save_images(images):\n",
    "    for x,image in enumerate(images):\n",
    "        r = requests.get(image, stream=True).content\n",
    "        with open(f'images/image_{x}.jpg', 'wb') as handler:\n",
    "            handler.write(r)\n",
    "    \n",
    "    print('all images saved locally')\n",
    "    pass"
   ]
  },
  {
   "cell_type": "code",
   "execution_count": 12,
   "id": "ad86154f",
   "metadata": {},
   "outputs": [
    {
     "name": "stdout",
     "output_type": "stream",
     "text": [
      "all images saved locally\n"
     ]
    }
   ],
   "source": [
    "save_images(images)"
   ]
  },
  {
   "cell_type": "code",
   "execution_count": 13,
   "id": "ae867da4",
   "metadata": {},
   "outputs": [],
   "source": [
    "r = requests.get(images[0], stream=True).content"
   ]
  },
  {
   "cell_type": "code",
   "execution_count": 14,
   "id": "4225f308",
   "metadata": {},
   "outputs": [],
   "source": [
    "with open('images/image_test.jpg', 'wb') as file: \n",
    "    file.write(r)"
   ]
  },
  {
   "cell_type": "code",
   "execution_count": 15,
   "id": "4b18fb4f",
   "metadata": {},
   "outputs": [
    {
     "name": "stdout",
     "output_type": "stream",
     "text": [
      "README.md     ap0cene.ipynb \u001b[1m\u001b[36mimages\u001b[m\u001b[m\r\n"
     ]
    }
   ],
   "source": [
    "!ls "
   ]
  },
  {
   "cell_type": "code",
   "execution_count": 16,
   "id": "524845d2",
   "metadata": {},
   "outputs": [
    {
     "name": "stdout",
     "output_type": "stream",
     "text": [
      "all images saved locally\n"
     ]
    }
   ],
   "source": [
    "for x,image in enumerate(images):\n",
    "    r = requests.get(image, stream=True).content\n",
    "    with open(f'images/image_{x}.jpg', 'wb') as handler:\n",
    "            handler.write(r)\n",
    "    \n",
    "print('all images saved locally')"
   ]
  },
  {
   "cell_type": "code",
   "execution_count": 17,
   "id": "3b1130a4",
   "metadata": {},
   "outputs": [
    {
     "data": {
      "text/plain": [
       "['http://cdn.shopify.com/s/files/1/0542/1803/1277/products/kJ7OcwB19I_2048x2048.jpg?v=1648057231',\n",
       " 'http://cdn.shopify.com/s/files/1/0542/1803/1277/products/XChyWB7wYF_2048x2048.jpg?v=1648057231',\n",
       " 'http://cdn.shopify.com/s/files/1/0542/1803/1277/products/yiFg2oXMmk_2048x2048.jpg?v=1648057231',\n",
       " 'http://cdn.shopify.com/s/files/1/0542/1803/1277/products/bEGnAsQmmA_2048x2048.jpg?v=1647045765',\n",
       " 'http://cdn.shopify.com/s/files/1/0542/1803/1277/products/3NaMNkriya_2048x2048.jpg?v=1647045765',\n",
       " 'http://cdn.shopify.com/s/files/1/0542/1803/1277/products/uFYtv1ZWmZ_2048x2048.jpg?v=1648065987',\n",
       " 'http://cdn.shopify.com/s/files/1/0542/1803/1277/products/flVuTOBq2r_2048x2048.jpg?v=1648065969',\n",
       " 'http://cdn.shopify.com/s/files/1/0542/1803/1277/products/mgKU3s3ok5_2048x2048.jpg?v=1648065969',\n",
       " 'http://cdn.shopify.com/s/files/1/0542/1803/1277/products/e7Z83YVjZP_2048x2048.jpg?v=1648065969',\n",
       " 'http://cdn.shopify.com/s/files/1/0542/1803/1277/products/xeinVZckST_2048x2048.jpg?v=1648065969',\n",
       " 'http://cdn.shopify.com/s/files/1/0542/1803/1277/products/KzA109anWo_2048x2048.jpg?v=1647045887',\n",
       " 'http://cdn.shopify.com/s/files/1/0542/1803/1277/products/yex6chy0eM_2048x2048.jpg?v=1647045887',\n",
       " 'http://cdn.shopify.com/s/files/1/0542/1803/1277/products/BWihhxe1YE_2048x2048.jpg?v=1647045887',\n",
       " 'http://cdn.shopify.com/s/files/1/0542/1803/1277/products/SNit4TdlGv_2048x2048.jpg?v=1647045887',\n",
       " 'http://cdn.shopify.com/s/files/1/0542/1803/1277/products/SA2RFZD3cD_2048x2048.jpg?v=1647045887',\n",
       " 'http://cdn.shopify.com/s/files/1/0542/1803/1277/products/EWKoRSsgx0_2048x2048.jpg?v=1647045719',\n",
       " 'http://cdn.shopify.com/s/files/1/0542/1803/1277/products/r3Kx7q6zPA_2048x2048.jpg?v=1647045719',\n",
       " 'http://cdn.shopify.com/s/files/1/0542/1803/1277/products/KrovWpT32v_2048x2048.jpg?v=1647044578',\n",
       " 'http://cdn.shopify.com/s/files/1/0542/1803/1277/products/mfhIrc6fmT_2048x2048.jpg?v=1647044578',\n",
       " 'http://cdn.shopify.com/s/files/1/0542/1803/1277/products/5U6KUORIRS_2048x2048.jpg?v=1647044578']"
      ]
     },
     "execution_count": 17,
     "metadata": {},
     "output_type": "execute_result"
    }
   ],
   "source": [
    "images"
   ]
  },
  {
   "cell_type": "code",
   "execution_count": null,
   "id": "011a0788",
   "metadata": {},
   "outputs": [],
   "source": []
  }
 ],
 "metadata": {
  "kernelspec": {
   "display_name": "Python 3 (ipykernel)",
   "language": "python",
   "name": "python3"
  },
  "language_info": {
   "codemirror_mode": {
    "name": "ipython",
    "version": 3
   },
   "file_extension": ".py",
   "mimetype": "text/x-python",
   "name": "python",
   "nbconvert_exporter": "python",
   "pygments_lexer": "ipython3",
   "version": "3.10.6"
  }
 },
 "nbformat": 4,
 "nbformat_minor": 5
}
